{
 "cells": [
  {
   "cell_type": "code",
   "execution_count": 445,
   "metadata": {},
   "outputs": [],
   "source": [
    "import pandas as pd"
   ]
  },
  {
   "cell_type": "code",
   "execution_count": 446,
   "metadata": {},
   "outputs": [],
   "source": [
    "dict = {\"imię\": [\"Marek\", \"Adam\", \"Jacek\"], \"wiek\": [21, 36, 18]}"
   ]
  },
  {
   "cell_type": "code",
   "execution_count": 447,
   "metadata": {},
   "outputs": [],
   "source": [
    "df = pd.DataFrame(dict)"
   ]
  },
  {
   "cell_type": "code",
   "execution_count": 448,
   "metadata": {},
   "outputs": [
    {
     "data": {
      "text/html": [
       "<div>\n",
       "<style scoped>\n",
       "    .dataframe tbody tr th:only-of-type {\n",
       "        vertical-align: middle;\n",
       "    }\n",
       "\n",
       "    .dataframe tbody tr th {\n",
       "        vertical-align: top;\n",
       "    }\n",
       "\n",
       "    .dataframe thead th {\n",
       "        text-align: right;\n",
       "    }\n",
       "</style>\n",
       "<table border=\"1\" class=\"dataframe\">\n",
       "  <thead>\n",
       "    <tr style=\"text-align: right;\">\n",
       "      <th></th>\n",
       "      <th>imię</th>\n",
       "      <th>wiek</th>\n",
       "    </tr>\n",
       "  </thead>\n",
       "  <tbody>\n",
       "    <tr>\n",
       "      <th>0</th>\n",
       "      <td>Marek</td>\n",
       "      <td>21</td>\n",
       "    </tr>\n",
       "    <tr>\n",
       "      <th>1</th>\n",
       "      <td>Adam</td>\n",
       "      <td>36</td>\n",
       "    </tr>\n",
       "    <tr>\n",
       "      <th>2</th>\n",
       "      <td>Jacek</td>\n",
       "      <td>18</td>\n",
       "    </tr>\n",
       "  </tbody>\n",
       "</table>\n",
       "</div>"
      ],
      "text/plain": [
       "    imię  wiek\n",
       "0  Marek    21\n",
       "1   Adam    36\n",
       "2  Jacek    18"
      ]
     },
     "execution_count": 448,
     "metadata": {},
     "output_type": "execute_result"
    }
   ],
   "source": [
    "df"
   ]
  },
  {
   "cell_type": "code",
   "execution_count": 449,
   "metadata": {},
   "outputs": [
    {
     "data": {
      "text/plain": [
       "pandas.core.frame.DataFrame"
      ]
     },
     "execution_count": 449,
     "metadata": {},
     "output_type": "execute_result"
    }
   ],
   "source": [
    "type(df)"
   ]
  },
  {
   "cell_type": "code",
   "execution_count": 450,
   "metadata": {},
   "outputs": [],
   "source": [
    "df = pd.read_csv(\"uczestnicy_kursu.csv\", sep=\";\")"
   ]
  },
  {
   "cell_type": "code",
   "execution_count": 451,
   "metadata": {},
   "outputs": [
    {
     "data": {
      "text/html": [
       "<div>\n",
       "<style scoped>\n",
       "    .dataframe tbody tr th:only-of-type {\n",
       "        vertical-align: middle;\n",
       "    }\n",
       "\n",
       "    .dataframe tbody tr th {\n",
       "        vertical-align: top;\n",
       "    }\n",
       "\n",
       "    .dataframe thead th {\n",
       "        text-align: right;\n",
       "    }\n",
       "</style>\n",
       "<table border=\"1\" class=\"dataframe\">\n",
       "  <thead>\n",
       "    <tr style=\"text-align: right;\">\n",
       "      <th></th>\n",
       "      <th>numer</th>\n",
       "      <th>imię</th>\n",
       "      <th>wiek</th>\n",
       "      <th>kraj</th>\n",
       "      <th>ocena</th>\n",
       "      <th>kontynent</th>\n",
       "    </tr>\n",
       "  </thead>\n",
       "  <tbody>\n",
       "    <tr>\n",
       "      <th>0</th>\n",
       "      <td>1001</td>\n",
       "      <td>Mark</td>\n",
       "      <td>55</td>\n",
       "      <td>Włochy</td>\n",
       "      <td>4.5</td>\n",
       "      <td>Europa</td>\n",
       "    </tr>\n",
       "    <tr>\n",
       "      <th>1</th>\n",
       "      <td>1000</td>\n",
       "      <td>John</td>\n",
       "      <td>33</td>\n",
       "      <td>USA</td>\n",
       "      <td>3.5</td>\n",
       "      <td>Ameryka</td>\n",
       "    </tr>\n",
       "    <tr>\n",
       "      <th>2</th>\n",
       "      <td>1002</td>\n",
       "      <td>Tim</td>\n",
       "      <td>41</td>\n",
       "      <td>USA</td>\n",
       "      <td>2.0</td>\n",
       "      <td>Ameryka</td>\n",
       "    </tr>\n",
       "    <tr>\n",
       "      <th>3</th>\n",
       "      <td>1003</td>\n",
       "      <td>Jenny</td>\n",
       "      <td>12</td>\n",
       "      <td>Niemcy</td>\n",
       "      <td>5.0</td>\n",
       "      <td>Europa</td>\n",
       "    </tr>\n",
       "  </tbody>\n",
       "</table>\n",
       "</div>"
      ],
      "text/plain": [
       "   numer   imię  wiek    kraj  ocena kontynent\n",
       "0   1001   Mark    55  Włochy    4.5    Europa\n",
       "1   1000   John    33     USA    3.5   Ameryka\n",
       "2   1002    Tim    41     USA    2.0   Ameryka\n",
       "3   1003  Jenny    12  Niemcy    5.0    Europa"
      ]
     },
     "execution_count": 451,
     "metadata": {},
     "output_type": "execute_result"
    }
   ],
   "source": [
    "df"
   ]
  },
  {
   "cell_type": "code",
   "execution_count": 452,
   "metadata": {},
   "outputs": [
    {
     "name": "stdout",
     "output_type": "stream",
     "text": [
      "<class 'pandas.core.frame.DataFrame'>\n",
      "RangeIndex: 4 entries, 0 to 3\n",
      "Data columns (total 6 columns):\n",
      " #   Column     Non-Null Count  Dtype  \n",
      "---  ------     --------------  -----  \n",
      " 0   numer      4 non-null      int64  \n",
      " 1   imię       4 non-null      object \n",
      " 2   wiek       4 non-null      int64  \n",
      " 3   kraj       4 non-null      object \n",
      " 4   ocena      4 non-null      float64\n",
      " 5   kontynent  4 non-null      object \n",
      "dtypes: float64(1), int64(2), object(3)\n",
      "memory usage: 324.0+ bytes\n"
     ]
    }
   ],
   "source": [
    "df.info()"
   ]
  },
  {
   "cell_type": "code",
   "execution_count": 453,
   "metadata": {},
   "outputs": [
    {
     "data": {
      "text/plain": [
       "numer          int64\n",
       "imię          object\n",
       "wiek           int64\n",
       "kraj          object\n",
       "ocena        float64\n",
       "kontynent     object\n",
       "dtype: object"
      ]
     },
     "execution_count": 453,
     "metadata": {},
     "output_type": "execute_result"
    }
   ],
   "source": [
    "df.dtypes"
   ]
  },
  {
   "cell_type": "code",
   "execution_count": 454,
   "metadata": {},
   "outputs": [
    {
     "data": {
      "text/plain": [
       "RangeIndex(start=0, stop=4, step=1)"
      ]
     },
     "execution_count": 454,
     "metadata": {},
     "output_type": "execute_result"
    }
   ],
   "source": [
    "df.index"
   ]
  },
  {
   "cell_type": "code",
   "execution_count": 455,
   "metadata": {},
   "outputs": [],
   "source": [
    "df = df.set_index(\"numer\")"
   ]
  },
  {
   "cell_type": "code",
   "execution_count": 456,
   "metadata": {},
   "outputs": [
    {
     "data": {
      "text/html": [
       "<div>\n",
       "<style scoped>\n",
       "    .dataframe tbody tr th:only-of-type {\n",
       "        vertical-align: middle;\n",
       "    }\n",
       "\n",
       "    .dataframe tbody tr th {\n",
       "        vertical-align: top;\n",
       "    }\n",
       "\n",
       "    .dataframe thead th {\n",
       "        text-align: right;\n",
       "    }\n",
       "</style>\n",
       "<table border=\"1\" class=\"dataframe\">\n",
       "  <thead>\n",
       "    <tr style=\"text-align: right;\">\n",
       "      <th></th>\n",
       "      <th>imię</th>\n",
       "      <th>wiek</th>\n",
       "      <th>kraj</th>\n",
       "      <th>ocena</th>\n",
       "      <th>kontynent</th>\n",
       "    </tr>\n",
       "    <tr>\n",
       "      <th>numer</th>\n",
       "      <th></th>\n",
       "      <th></th>\n",
       "      <th></th>\n",
       "      <th></th>\n",
       "      <th></th>\n",
       "    </tr>\n",
       "  </thead>\n",
       "  <tbody>\n",
       "    <tr>\n",
       "      <th>1001</th>\n",
       "      <td>Mark</td>\n",
       "      <td>55</td>\n",
       "      <td>Włochy</td>\n",
       "      <td>4.5</td>\n",
       "      <td>Europa</td>\n",
       "    </tr>\n",
       "    <tr>\n",
       "      <th>1000</th>\n",
       "      <td>John</td>\n",
       "      <td>33</td>\n",
       "      <td>USA</td>\n",
       "      <td>3.5</td>\n",
       "      <td>Ameryka</td>\n",
       "    </tr>\n",
       "    <tr>\n",
       "      <th>1002</th>\n",
       "      <td>Tim</td>\n",
       "      <td>41</td>\n",
       "      <td>USA</td>\n",
       "      <td>2.0</td>\n",
       "      <td>Ameryka</td>\n",
       "    </tr>\n",
       "    <tr>\n",
       "      <th>1003</th>\n",
       "      <td>Jenny</td>\n",
       "      <td>12</td>\n",
       "      <td>Niemcy</td>\n",
       "      <td>5.0</td>\n",
       "      <td>Europa</td>\n",
       "    </tr>\n",
       "  </tbody>\n",
       "</table>\n",
       "</div>"
      ],
      "text/plain": [
       "        imię  wiek    kraj  ocena kontynent\n",
       "numer                                      \n",
       "1001    Mark    55  Włochy    4.5    Europa\n",
       "1000    John    33     USA    3.5   Ameryka\n",
       "1002     Tim    41     USA    2.0   Ameryka\n",
       "1003   Jenny    12  Niemcy    5.0    Europa"
      ]
     },
     "execution_count": 456,
     "metadata": {},
     "output_type": "execute_result"
    }
   ],
   "source": [
    "df"
   ]
  },
  {
   "cell_type": "code",
   "execution_count": 457,
   "metadata": {},
   "outputs": [
    {
     "data": {
      "text/plain": [
       "Index([1001, 1000, 1002, 1003], dtype='int64', name='numer')"
      ]
     },
     "execution_count": 457,
     "metadata": {},
     "output_type": "execute_result"
    }
   ],
   "source": [
    "df.index"
   ]
  },
  {
   "cell_type": "code",
   "execution_count": 458,
   "metadata": {},
   "outputs": [
    {
     "data": {
      "text/html": [
       "<div>\n",
       "<style scoped>\n",
       "    .dataframe tbody tr th:only-of-type {\n",
       "        vertical-align: middle;\n",
       "    }\n",
       "\n",
       "    .dataframe tbody tr th {\n",
       "        vertical-align: top;\n",
       "    }\n",
       "\n",
       "    .dataframe thead th {\n",
       "        text-align: right;\n",
       "    }\n",
       "</style>\n",
       "<table border=\"1\" class=\"dataframe\">\n",
       "  <thead>\n",
       "    <tr style=\"text-align: right;\">\n",
       "      <th></th>\n",
       "      <th>numer</th>\n",
       "      <th>imię</th>\n",
       "      <th>wiek</th>\n",
       "      <th>kraj</th>\n",
       "      <th>ocena</th>\n",
       "      <th>kontynent</th>\n",
       "    </tr>\n",
       "  </thead>\n",
       "  <tbody>\n",
       "    <tr>\n",
       "      <th>0</th>\n",
       "      <td>1001</td>\n",
       "      <td>Mark</td>\n",
       "      <td>55</td>\n",
       "      <td>Włochy</td>\n",
       "      <td>4.5</td>\n",
       "      <td>Europa</td>\n",
       "    </tr>\n",
       "    <tr>\n",
       "      <th>1</th>\n",
       "      <td>1000</td>\n",
       "      <td>John</td>\n",
       "      <td>33</td>\n",
       "      <td>USA</td>\n",
       "      <td>3.5</td>\n",
       "      <td>Ameryka</td>\n",
       "    </tr>\n",
       "    <tr>\n",
       "      <th>2</th>\n",
       "      <td>1002</td>\n",
       "      <td>Tim</td>\n",
       "      <td>41</td>\n",
       "      <td>USA</td>\n",
       "      <td>2.0</td>\n",
       "      <td>Ameryka</td>\n",
       "    </tr>\n",
       "    <tr>\n",
       "      <th>3</th>\n",
       "      <td>1003</td>\n",
       "      <td>Jenny</td>\n",
       "      <td>12</td>\n",
       "      <td>Niemcy</td>\n",
       "      <td>5.0</td>\n",
       "      <td>Europa</td>\n",
       "    </tr>\n",
       "  </tbody>\n",
       "</table>\n",
       "</div>"
      ],
      "text/plain": [
       "   numer   imię  wiek    kraj  ocena kontynent\n",
       "0   1001   Mark    55  Włochy    4.5    Europa\n",
       "1   1000   John    33     USA    3.5   Ameryka\n",
       "2   1002    Tim    41     USA    2.0   Ameryka\n",
       "3   1003  Jenny    12  Niemcy    5.0    Europa"
      ]
     },
     "execution_count": 458,
     "metadata": {},
     "output_type": "execute_result"
    }
   ],
   "source": [
    "df.reset_index()"
   ]
  },
  {
   "cell_type": "code",
   "execution_count": 459,
   "metadata": {},
   "outputs": [
    {
     "data": {
      "text/html": [
       "<div>\n",
       "<style scoped>\n",
       "    .dataframe tbody tr th:only-of-type {\n",
       "        vertical-align: middle;\n",
       "    }\n",
       "\n",
       "    .dataframe tbody tr th {\n",
       "        vertical-align: top;\n",
       "    }\n",
       "\n",
       "    .dataframe thead th {\n",
       "        text-align: right;\n",
       "    }\n",
       "</style>\n",
       "<table border=\"1\" class=\"dataframe\">\n",
       "  <thead>\n",
       "    <tr style=\"text-align: right;\">\n",
       "      <th></th>\n",
       "      <th>imię</th>\n",
       "      <th>wiek</th>\n",
       "      <th>kraj</th>\n",
       "      <th>ocena</th>\n",
       "      <th>kontynent</th>\n",
       "    </tr>\n",
       "  </thead>\n",
       "  <tbody>\n",
       "    <tr>\n",
       "      <th>0</th>\n",
       "      <td>Mark</td>\n",
       "      <td>55</td>\n",
       "      <td>Włochy</td>\n",
       "      <td>4.5</td>\n",
       "      <td>Europa</td>\n",
       "    </tr>\n",
       "    <tr>\n",
       "      <th>1</th>\n",
       "      <td>John</td>\n",
       "      <td>33</td>\n",
       "      <td>USA</td>\n",
       "      <td>3.5</td>\n",
       "      <td>Ameryka</td>\n",
       "    </tr>\n",
       "    <tr>\n",
       "      <th>2</th>\n",
       "      <td>Tim</td>\n",
       "      <td>41</td>\n",
       "      <td>USA</td>\n",
       "      <td>2.0</td>\n",
       "      <td>Ameryka</td>\n",
       "    </tr>\n",
       "    <tr>\n",
       "      <th>3</th>\n",
       "      <td>Jenny</td>\n",
       "      <td>12</td>\n",
       "      <td>Niemcy</td>\n",
       "      <td>5.0</td>\n",
       "      <td>Europa</td>\n",
       "    </tr>\n",
       "  </tbody>\n",
       "</table>\n",
       "</div>"
      ],
      "text/plain": [
       "    imię  wiek    kraj  ocena kontynent\n",
       "0   Mark    55  Włochy    4.5    Europa\n",
       "1   John    33     USA    3.5   Ameryka\n",
       "2    Tim    41     USA    2.0   Ameryka\n",
       "3  Jenny    12  Niemcy    5.0    Europa"
      ]
     },
     "execution_count": 459,
     "metadata": {},
     "output_type": "execute_result"
    }
   ],
   "source": [
    "df.reset_index(drop=True)"
   ]
  },
  {
   "cell_type": "code",
   "execution_count": 460,
   "metadata": {},
   "outputs": [
    {
     "data": {
      "text/html": [
       "<div>\n",
       "<style scoped>\n",
       "    .dataframe tbody tr th:only-of-type {\n",
       "        vertical-align: middle;\n",
       "    }\n",
       "\n",
       "    .dataframe tbody tr th {\n",
       "        vertical-align: top;\n",
       "    }\n",
       "\n",
       "    .dataframe thead th {\n",
       "        text-align: right;\n",
       "    }\n",
       "</style>\n",
       "<table border=\"1\" class=\"dataframe\">\n",
       "  <thead>\n",
       "    <tr style=\"text-align: right;\">\n",
       "      <th></th>\n",
       "      <th>imię</th>\n",
       "      <th>wiek</th>\n",
       "      <th>kraj</th>\n",
       "      <th>ocena</th>\n",
       "      <th>kontynent</th>\n",
       "    </tr>\n",
       "    <tr>\n",
       "      <th>numer</th>\n",
       "      <th></th>\n",
       "      <th></th>\n",
       "      <th></th>\n",
       "      <th></th>\n",
       "      <th></th>\n",
       "    </tr>\n",
       "  </thead>\n",
       "  <tbody>\n",
       "    <tr>\n",
       "      <th>1001</th>\n",
       "      <td>Mark</td>\n",
       "      <td>55</td>\n",
       "      <td>Włochy</td>\n",
       "      <td>4.5</td>\n",
       "      <td>Europa</td>\n",
       "    </tr>\n",
       "    <tr>\n",
       "      <th>1000</th>\n",
       "      <td>John</td>\n",
       "      <td>33</td>\n",
       "      <td>USA</td>\n",
       "      <td>3.5</td>\n",
       "      <td>Ameryka</td>\n",
       "    </tr>\n",
       "    <tr>\n",
       "      <th>1002</th>\n",
       "      <td>Tim</td>\n",
       "      <td>41</td>\n",
       "      <td>USA</td>\n",
       "      <td>2.0</td>\n",
       "      <td>Ameryka</td>\n",
       "    </tr>\n",
       "    <tr>\n",
       "      <th>1003</th>\n",
       "      <td>Jenny</td>\n",
       "      <td>12</td>\n",
       "      <td>Niemcy</td>\n",
       "      <td>5.0</td>\n",
       "      <td>Europa</td>\n",
       "    </tr>\n",
       "  </tbody>\n",
       "</table>\n",
       "</div>"
      ],
      "text/plain": [
       "        imię  wiek    kraj  ocena kontynent\n",
       "numer                                      \n",
       "1001    Mark    55  Włochy    4.5    Europa\n",
       "1000    John    33     USA    3.5   Ameryka\n",
       "1002     Tim    41     USA    2.0   Ameryka\n",
       "1003   Jenny    12  Niemcy    5.0    Europa"
      ]
     },
     "execution_count": 460,
     "metadata": {},
     "output_type": "execute_result"
    }
   ],
   "source": [
    "df"
   ]
  },
  {
   "cell_type": "code",
   "execution_count": 461,
   "metadata": {},
   "outputs": [
    {
     "data": {
      "text/plain": [
       "Index(['imię', 'wiek', 'kraj', 'ocena', 'kontynent'], dtype='object')"
      ]
     },
     "execution_count": 461,
     "metadata": {},
     "output_type": "execute_result"
    }
   ],
   "source": [
    "df.columns"
   ]
  },
  {
   "cell_type": "code",
   "execution_count": 462,
   "metadata": {},
   "outputs": [
    {
     "name": "stdout",
     "output_type": "stream",
     "text": [
      "imię\n",
      "wiek\n",
      "kraj\n",
      "ocena\n",
      "kontynent\n"
     ]
    }
   ],
   "source": [
    "for c in df.columns:\n",
    "    print(c)"
   ]
  },
  {
   "cell_type": "code",
   "execution_count": 463,
   "metadata": {},
   "outputs": [
    {
     "data": {
      "text/html": [
       "<div>\n",
       "<style scoped>\n",
       "    .dataframe tbody tr th:only-of-type {\n",
       "        vertical-align: middle;\n",
       "    }\n",
       "\n",
       "    .dataframe tbody tr th {\n",
       "        vertical-align: top;\n",
       "    }\n",
       "\n",
       "    .dataframe thead th {\n",
       "        text-align: right;\n",
       "    }\n",
       "</style>\n",
       "<table border=\"1\" class=\"dataframe\">\n",
       "  <thead>\n",
       "    <tr style=\"text-align: right;\">\n",
       "      <th></th>\n",
       "      <th>wiek</th>\n",
       "      <th>ocena</th>\n",
       "      <th>kontynent</th>\n",
       "    </tr>\n",
       "    <tr>\n",
       "      <th>numer</th>\n",
       "      <th></th>\n",
       "      <th></th>\n",
       "      <th></th>\n",
       "    </tr>\n",
       "  </thead>\n",
       "  <tbody>\n",
       "    <tr>\n",
       "      <th>1001</th>\n",
       "      <td>55</td>\n",
       "      <td>4.5</td>\n",
       "      <td>Europa</td>\n",
       "    </tr>\n",
       "    <tr>\n",
       "      <th>1002</th>\n",
       "      <td>41</td>\n",
       "      <td>2.0</td>\n",
       "      <td>Ameryka</td>\n",
       "    </tr>\n",
       "  </tbody>\n",
       "</table>\n",
       "</div>"
      ],
      "text/plain": [
       "       wiek  ocena kontynent\n",
       "numer                       \n",
       "1001     55    4.5    Europa\n",
       "1002     41    2.0   Ameryka"
      ]
     },
     "execution_count": 463,
     "metadata": {},
     "output_type": "execute_result"
    }
   ],
   "source": [
    "df.drop(columns=[\"imię\", \"kraj\"], index = [1000, 1003]) #drop- wyrzucenie czegoś"
   ]
  },
  {
   "cell_type": "code",
   "execution_count": 464,
   "metadata": {},
   "outputs": [
    {
     "data": {
      "text/plain": [
       "Index(['imię', 'wiek', 'kraj', 'ocena', 'kontynent'], dtype='object')"
      ]
     },
     "execution_count": 464,
     "metadata": {},
     "output_type": "execute_result"
    }
   ],
   "source": [
    "df.columns"
   ]
  },
  {
   "cell_type": "code",
   "execution_count": 465,
   "metadata": {},
   "outputs": [
    {
     "data": {
      "text/html": [
       "<div>\n",
       "<style scoped>\n",
       "    .dataframe tbody tr th:only-of-type {\n",
       "        vertical-align: middle;\n",
       "    }\n",
       "\n",
       "    .dataframe tbody tr th {\n",
       "        vertical-align: top;\n",
       "    }\n",
       "\n",
       "    .dataframe thead th {\n",
       "        text-align: right;\n",
       "    }\n",
       "</style>\n",
       "<table border=\"1\" class=\"dataframe\">\n",
       "  <thead>\n",
       "    <tr style=\"text-align: right;\">\n",
       "      <th></th>\n",
       "      <th>imię</th>\n",
       "      <th>kraj</th>\n",
       "      <th>ocena</th>\n",
       "      <th>kontynent</th>\n",
       "    </tr>\n",
       "    <tr>\n",
       "      <th>numer</th>\n",
       "      <th></th>\n",
       "      <th></th>\n",
       "      <th></th>\n",
       "      <th></th>\n",
       "    </tr>\n",
       "  </thead>\n",
       "  <tbody>\n",
       "    <tr>\n",
       "      <th>1001</th>\n",
       "      <td>Mark</td>\n",
       "      <td>Włochy</td>\n",
       "      <td>4.5</td>\n",
       "      <td>Europa</td>\n",
       "    </tr>\n",
       "    <tr>\n",
       "      <th>1000</th>\n",
       "      <td>John</td>\n",
       "      <td>USA</td>\n",
       "      <td>3.5</td>\n",
       "      <td>Ameryka</td>\n",
       "    </tr>\n",
       "    <tr>\n",
       "      <th>1002</th>\n",
       "      <td>Tim</td>\n",
       "      <td>USA</td>\n",
       "      <td>2.0</td>\n",
       "      <td>Ameryka</td>\n",
       "    </tr>\n",
       "    <tr>\n",
       "      <th>1003</th>\n",
       "      <td>Jenny</td>\n",
       "      <td>Niemcy</td>\n",
       "      <td>5.0</td>\n",
       "      <td>Europa</td>\n",
       "    </tr>\n",
       "  </tbody>\n",
       "</table>\n",
       "</div>"
      ],
      "text/plain": [
       "        imię    kraj  ocena kontynent\n",
       "numer                                \n",
       "1001    Mark  Włochy    4.5    Europa\n",
       "1000    John     USA    3.5   Ameryka\n",
       "1002     Tim     USA    2.0   Ameryka\n",
       "1003   Jenny  Niemcy    5.0    Europa"
      ]
     },
     "execution_count": 465,
     "metadata": {},
     "output_type": "execute_result"
    }
   ],
   "source": [
    "df.drop(\"wiek\", axis=1) # 1-usuwanie kolumny, 0-wiersz"
   ]
  },
  {
   "cell_type": "code",
   "execution_count": 466,
   "metadata": {},
   "outputs": [
    {
     "data": {
      "text/html": [
       "<div>\n",
       "<style scoped>\n",
       "    .dataframe tbody tr th:only-of-type {\n",
       "        vertical-align: middle;\n",
       "    }\n",
       "\n",
       "    .dataframe tbody tr th {\n",
       "        vertical-align: top;\n",
       "    }\n",
       "\n",
       "    .dataframe thead th {\n",
       "        text-align: right;\n",
       "    }\n",
       "</style>\n",
       "<table border=\"1\" class=\"dataframe\">\n",
       "  <thead>\n",
       "    <tr style=\"text-align: right;\">\n",
       "      <th></th>\n",
       "      <th>imię</th>\n",
       "      <th>wiek</th>\n",
       "      <th>kraj</th>\n",
       "      <th>ocena</th>\n",
       "      <th>kontynent</th>\n",
       "    </tr>\n",
       "    <tr>\n",
       "      <th>numer</th>\n",
       "      <th></th>\n",
       "      <th></th>\n",
       "      <th></th>\n",
       "      <th></th>\n",
       "      <th></th>\n",
       "    </tr>\n",
       "  </thead>\n",
       "  <tbody>\n",
       "    <tr>\n",
       "      <th>1001</th>\n",
       "      <td>Mark</td>\n",
       "      <td>55</td>\n",
       "      <td>Włochy</td>\n",
       "      <td>4.5</td>\n",
       "      <td>Europa</td>\n",
       "    </tr>\n",
       "    <tr>\n",
       "      <th>1000</th>\n",
       "      <td>John</td>\n",
       "      <td>33</td>\n",
       "      <td>USA</td>\n",
       "      <td>3.5</td>\n",
       "      <td>Ameryka</td>\n",
       "    </tr>\n",
       "    <tr>\n",
       "      <th>1002</th>\n",
       "      <td>Tim</td>\n",
       "      <td>41</td>\n",
       "      <td>USA</td>\n",
       "      <td>2.0</td>\n",
       "      <td>Ameryka</td>\n",
       "    </tr>\n",
       "    <tr>\n",
       "      <th>1003</th>\n",
       "      <td>Jenny</td>\n",
       "      <td>12</td>\n",
       "      <td>Niemcy</td>\n",
       "      <td>5.0</td>\n",
       "      <td>Europa</td>\n",
       "    </tr>\n",
       "  </tbody>\n",
       "</table>\n",
       "</div>"
      ],
      "text/plain": [
       "        imię  wiek    kraj  ocena kontynent\n",
       "numer                                      \n",
       "1001    Mark    55  Włochy    4.5    Europa\n",
       "1000    John    33     USA    3.5   Ameryka\n",
       "1002     Tim    41     USA    2.0   Ameryka\n",
       "1003   Jenny    12  Niemcy    5.0    Europa"
      ]
     },
     "execution_count": 466,
     "metadata": {},
     "output_type": "execute_result"
    }
   ],
   "source": [
    "df"
   ]
  },
  {
   "cell_type": "code",
   "execution_count": 467,
   "metadata": {},
   "outputs": [
    {
     "data": {
      "text/html": [
       "<div>\n",
       "<style scoped>\n",
       "    .dataframe tbody tr th:only-of-type {\n",
       "        vertical-align: middle;\n",
       "    }\n",
       "\n",
       "    .dataframe tbody tr th {\n",
       "        vertical-align: top;\n",
       "    }\n",
       "\n",
       "    .dataframe thead th {\n",
       "        text-align: right;\n",
       "    }\n",
       "</style>\n",
       "<table border=\"1\" class=\"dataframe\">\n",
       "  <thead>\n",
       "    <tr style=\"text-align: right;\">\n",
       "      <th></th>\n",
       "      <th>imię</th>\n",
       "      <th>wiek</th>\n",
       "      <th>kraj</th>\n",
       "      <th>ocena</th>\n",
       "      <th>kontynent</th>\n",
       "    </tr>\n",
       "    <tr>\n",
       "      <th>numer</th>\n",
       "      <th></th>\n",
       "      <th></th>\n",
       "      <th></th>\n",
       "      <th></th>\n",
       "      <th></th>\n",
       "    </tr>\n",
       "  </thead>\n",
       "  <tbody>\n",
       "    <tr>\n",
       "      <th>1000</th>\n",
       "      <td>John</td>\n",
       "      <td>33</td>\n",
       "      <td>USA</td>\n",
       "      <td>3.5</td>\n",
       "      <td>Ameryka</td>\n",
       "    </tr>\n",
       "    <tr>\n",
       "      <th>1001</th>\n",
       "      <td>Mark</td>\n",
       "      <td>55</td>\n",
       "      <td>Włochy</td>\n",
       "      <td>4.5</td>\n",
       "      <td>Europa</td>\n",
       "    </tr>\n",
       "    <tr>\n",
       "      <th>1002</th>\n",
       "      <td>Tim</td>\n",
       "      <td>41</td>\n",
       "      <td>USA</td>\n",
       "      <td>2.0</td>\n",
       "      <td>Ameryka</td>\n",
       "    </tr>\n",
       "    <tr>\n",
       "      <th>1003</th>\n",
       "      <td>Jenny</td>\n",
       "      <td>12</td>\n",
       "      <td>Niemcy</td>\n",
       "      <td>5.0</td>\n",
       "      <td>Europa</td>\n",
       "    </tr>\n",
       "  </tbody>\n",
       "</table>\n",
       "</div>"
      ],
      "text/plain": [
       "        imię  wiek    kraj  ocena kontynent\n",
       "numer                                      \n",
       "1000    John    33     USA    3.5   Ameryka\n",
       "1001    Mark    55  Włochy    4.5    Europa\n",
       "1002     Tim    41     USA    2.0   Ameryka\n",
       "1003   Jenny    12  Niemcy    5.0    Europa"
      ]
     },
     "execution_count": 467,
     "metadata": {},
     "output_type": "execute_result"
    }
   ],
   "source": [
    "df = df.sort_index()\n",
    "df"
   ]
  },
  {
   "cell_type": "code",
   "execution_count": 468,
   "metadata": {},
   "outputs": [
    {
     "data": {
      "text/html": [
       "<div>\n",
       "<style scoped>\n",
       "    .dataframe tbody tr th:only-of-type {\n",
       "        vertical-align: middle;\n",
       "    }\n",
       "\n",
       "    .dataframe tbody tr th {\n",
       "        vertical-align: top;\n",
       "    }\n",
       "\n",
       "    .dataframe thead th {\n",
       "        text-align: right;\n",
       "    }\n",
       "</style>\n",
       "<table border=\"1\" class=\"dataframe\">\n",
       "  <thead>\n",
       "    <tr style=\"text-align: right;\">\n",
       "      <th></th>\n",
       "      <th>imię</th>\n",
       "      <th>wiek</th>\n",
       "      <th>kraj</th>\n",
       "      <th>ocena</th>\n",
       "      <th>kontynent</th>\n",
       "    </tr>\n",
       "    <tr>\n",
       "      <th>numer</th>\n",
       "      <th></th>\n",
       "      <th></th>\n",
       "      <th></th>\n",
       "      <th></th>\n",
       "      <th></th>\n",
       "    </tr>\n",
       "  </thead>\n",
       "  <tbody>\n",
       "    <tr>\n",
       "      <th>1000</th>\n",
       "      <td>John</td>\n",
       "      <td>33</td>\n",
       "      <td>USA</td>\n",
       "      <td>3.5</td>\n",
       "      <td>Ameryka</td>\n",
       "    </tr>\n",
       "    <tr>\n",
       "      <th>1002</th>\n",
       "      <td>Tim</td>\n",
       "      <td>41</td>\n",
       "      <td>USA</td>\n",
       "      <td>2.0</td>\n",
       "      <td>Ameryka</td>\n",
       "    </tr>\n",
       "    <tr>\n",
       "      <th>1001</th>\n",
       "      <td>Mark</td>\n",
       "      <td>55</td>\n",
       "      <td>Włochy</td>\n",
       "      <td>4.5</td>\n",
       "      <td>Europa</td>\n",
       "    </tr>\n",
       "    <tr>\n",
       "      <th>1003</th>\n",
       "      <td>Jenny</td>\n",
       "      <td>12</td>\n",
       "      <td>Niemcy</td>\n",
       "      <td>5.0</td>\n",
       "      <td>Europa</td>\n",
       "    </tr>\n",
       "  </tbody>\n",
       "</table>\n",
       "</div>"
      ],
      "text/plain": [
       "        imię  wiek    kraj  ocena kontynent\n",
       "numer                                      \n",
       "1000    John    33     USA    3.5   Ameryka\n",
       "1002     Tim    41     USA    2.0   Ameryka\n",
       "1001    Mark    55  Włochy    4.5    Europa\n",
       "1003   Jenny    12  Niemcy    5.0    Europa"
      ]
     },
     "execution_count": 468,
     "metadata": {},
     "output_type": "execute_result"
    }
   ],
   "source": [
    "df.sort_values(\"kontynent\")"
   ]
  },
  {
   "cell_type": "code",
   "execution_count": 469,
   "metadata": {},
   "outputs": [
    {
     "data": {
      "text/html": [
       "<div>\n",
       "<style scoped>\n",
       "    .dataframe tbody tr th:only-of-type {\n",
       "        vertical-align: middle;\n",
       "    }\n",
       "\n",
       "    .dataframe tbody tr th {\n",
       "        vertical-align: top;\n",
       "    }\n",
       "\n",
       "    .dataframe thead th {\n",
       "        text-align: right;\n",
       "    }\n",
       "</style>\n",
       "<table border=\"1\" class=\"dataframe\">\n",
       "  <thead>\n",
       "    <tr style=\"text-align: right;\">\n",
       "      <th></th>\n",
       "      <th>imię</th>\n",
       "      <th>wiek</th>\n",
       "      <th>kraj</th>\n",
       "      <th>ocena</th>\n",
       "      <th>kontynent</th>\n",
       "    </tr>\n",
       "    <tr>\n",
       "      <th>numer</th>\n",
       "      <th></th>\n",
       "      <th></th>\n",
       "      <th></th>\n",
       "      <th></th>\n",
       "      <th></th>\n",
       "    </tr>\n",
       "  </thead>\n",
       "  <tbody>\n",
       "    <tr>\n",
       "      <th>1000</th>\n",
       "      <td>John</td>\n",
       "      <td>33</td>\n",
       "      <td>USA</td>\n",
       "      <td>3.5</td>\n",
       "      <td>Ameryka</td>\n",
       "    </tr>\n",
       "    <tr>\n",
       "      <th>1002</th>\n",
       "      <td>Tim</td>\n",
       "      <td>41</td>\n",
       "      <td>USA</td>\n",
       "      <td>2.0</td>\n",
       "      <td>Ameryka</td>\n",
       "    </tr>\n",
       "    <tr>\n",
       "      <th>1003</th>\n",
       "      <td>Jenny</td>\n",
       "      <td>12</td>\n",
       "      <td>Niemcy</td>\n",
       "      <td>5.0</td>\n",
       "      <td>Europa</td>\n",
       "    </tr>\n",
       "    <tr>\n",
       "      <th>1001</th>\n",
       "      <td>Mark</td>\n",
       "      <td>55</td>\n",
       "      <td>Włochy</td>\n",
       "      <td>4.5</td>\n",
       "      <td>Europa</td>\n",
       "    </tr>\n",
       "  </tbody>\n",
       "</table>\n",
       "</div>"
      ],
      "text/plain": [
       "        imię  wiek    kraj  ocena kontynent\n",
       "numer                                      \n",
       "1000    John    33     USA    3.5   Ameryka\n",
       "1002     Tim    41     USA    2.0   Ameryka\n",
       "1003   Jenny    12  Niemcy    5.0    Europa\n",
       "1001    Mark    55  Włochy    4.5    Europa"
      ]
     },
     "execution_count": 469,
     "metadata": {},
     "output_type": "execute_result"
    }
   ],
   "source": [
    "df.sort_values([\"kontynent\", \"wiek\"])"
   ]
  },
  {
   "cell_type": "code",
   "execution_count": 470,
   "metadata": {},
   "outputs": [
    {
     "data": {
      "text/html": [
       "<div>\n",
       "<style scoped>\n",
       "    .dataframe tbody tr th:only-of-type {\n",
       "        vertical-align: middle;\n",
       "    }\n",
       "\n",
       "    .dataframe tbody tr th {\n",
       "        vertical-align: top;\n",
       "    }\n",
       "\n",
       "    .dataframe thead th {\n",
       "        text-align: right;\n",
       "    }\n",
       "</style>\n",
       "<table border=\"1\" class=\"dataframe\">\n",
       "  <thead>\n",
       "    <tr style=\"text-align: right;\">\n",
       "      <th></th>\n",
       "      <th>Imię</th>\n",
       "      <th>Wiek</th>\n",
       "      <th>kraj</th>\n",
       "      <th>ocena</th>\n",
       "      <th>kontynent</th>\n",
       "    </tr>\n",
       "    <tr>\n",
       "      <th>numer</th>\n",
       "      <th></th>\n",
       "      <th></th>\n",
       "      <th></th>\n",
       "      <th></th>\n",
       "      <th></th>\n",
       "    </tr>\n",
       "  </thead>\n",
       "  <tbody>\n",
       "    <tr>\n",
       "      <th>1000</th>\n",
       "      <td>John</td>\n",
       "      <td>33</td>\n",
       "      <td>USA</td>\n",
       "      <td>3.5</td>\n",
       "      <td>Ameryka</td>\n",
       "    </tr>\n",
       "    <tr>\n",
       "      <th>1001</th>\n",
       "      <td>Mark</td>\n",
       "      <td>55</td>\n",
       "      <td>Włochy</td>\n",
       "      <td>4.5</td>\n",
       "      <td>Europa</td>\n",
       "    </tr>\n",
       "    <tr>\n",
       "      <th>1002</th>\n",
       "      <td>Tim</td>\n",
       "      <td>41</td>\n",
       "      <td>USA</td>\n",
       "      <td>2.0</td>\n",
       "      <td>Ameryka</td>\n",
       "    </tr>\n",
       "    <tr>\n",
       "      <th>1003</th>\n",
       "      <td>Jenny</td>\n",
       "      <td>12</td>\n",
       "      <td>Niemcy</td>\n",
       "      <td>5.0</td>\n",
       "      <td>Europa</td>\n",
       "    </tr>\n",
       "  </tbody>\n",
       "</table>\n",
       "</div>"
      ],
      "text/plain": [
       "        Imię  Wiek    kraj  ocena kontynent\n",
       "numer                                      \n",
       "1000    John    33     USA    3.5   Ameryka\n",
       "1001    Mark    55  Włochy    4.5    Europa\n",
       "1002     Tim    41     USA    2.0   Ameryka\n",
       "1003   Jenny    12  Niemcy    5.0    Europa"
      ]
     },
     "execution_count": 470,
     "metadata": {},
     "output_type": "execute_result"
    }
   ],
   "source": [
    "df.rename(columns={\"imię\": \"Imię\", \"wiek\": \"Wiek\"})"
   ]
  },
  {
   "cell_type": "code",
   "execution_count": 471,
   "metadata": {},
   "outputs": [
    {
     "data": {
      "text/html": [
       "<div>\n",
       "<style scoped>\n",
       "    .dataframe tbody tr th:only-of-type {\n",
       "        vertical-align: middle;\n",
       "    }\n",
       "\n",
       "    .dataframe tbody tr th {\n",
       "        vertical-align: top;\n",
       "    }\n",
       "\n",
       "    .dataframe thead th {\n",
       "        text-align: right;\n",
       "    }\n",
       "</style>\n",
       "<table border=\"1\" class=\"dataframe\">\n",
       "  <thead>\n",
       "    <tr style=\"text-align: right;\">\n",
       "      <th>numer</th>\n",
       "      <th>1000</th>\n",
       "      <th>1001</th>\n",
       "      <th>1002</th>\n",
       "      <th>1003</th>\n",
       "    </tr>\n",
       "  </thead>\n",
       "  <tbody>\n",
       "    <tr>\n",
       "      <th>imię</th>\n",
       "      <td>John</td>\n",
       "      <td>Mark</td>\n",
       "      <td>Tim</td>\n",
       "      <td>Jenny</td>\n",
       "    </tr>\n",
       "    <tr>\n",
       "      <th>wiek</th>\n",
       "      <td>33</td>\n",
       "      <td>55</td>\n",
       "      <td>41</td>\n",
       "      <td>12</td>\n",
       "    </tr>\n",
       "    <tr>\n",
       "      <th>kraj</th>\n",
       "      <td>USA</td>\n",
       "      <td>Włochy</td>\n",
       "      <td>USA</td>\n",
       "      <td>Niemcy</td>\n",
       "    </tr>\n",
       "    <tr>\n",
       "      <th>ocena</th>\n",
       "      <td>3.5</td>\n",
       "      <td>4.5</td>\n",
       "      <td>2.0</td>\n",
       "      <td>5.0</td>\n",
       "    </tr>\n",
       "    <tr>\n",
       "      <th>kontynent</th>\n",
       "      <td>Ameryka</td>\n",
       "      <td>Europa</td>\n",
       "      <td>Ameryka</td>\n",
       "      <td>Europa</td>\n",
       "    </tr>\n",
       "  </tbody>\n",
       "</table>\n",
       "</div>"
      ],
      "text/plain": [
       "numer         1000    1001     1002    1003\n",
       "imię          John    Mark      Tim   Jenny\n",
       "wiek            33      55       41      12\n",
       "kraj           USA  Włochy      USA  Niemcy\n",
       "ocena          3.5     4.5      2.0     5.0\n",
       "kontynent  Ameryka  Europa  Ameryka  Europa"
      ]
     },
     "execution_count": 471,
     "metadata": {},
     "output_type": "execute_result"
    }
   ],
   "source": [
    "df.T #transponowanie"
   ]
  },
  {
   "cell_type": "code",
   "execution_count": 472,
   "metadata": {},
   "outputs": [
    {
     "data": {
      "text/html": [
       "<div>\n",
       "<style scoped>\n",
       "    .dataframe tbody tr th:only-of-type {\n",
       "        vertical-align: middle;\n",
       "    }\n",
       "\n",
       "    .dataframe tbody tr th {\n",
       "        vertical-align: top;\n",
       "    }\n",
       "\n",
       "    .dataframe thead th {\n",
       "        text-align: right;\n",
       "    }\n",
       "</style>\n",
       "<table border=\"1\" class=\"dataframe\">\n",
       "  <thead>\n",
       "    <tr style=\"text-align: right;\">\n",
       "      <th></th>\n",
       "      <th>imię</th>\n",
       "      <th>wiek</th>\n",
       "      <th>kraj</th>\n",
       "      <th>ocena</th>\n",
       "      <th>kontynent</th>\n",
       "    </tr>\n",
       "    <tr>\n",
       "      <th>numer</th>\n",
       "      <th></th>\n",
       "      <th></th>\n",
       "      <th></th>\n",
       "      <th></th>\n",
       "      <th></th>\n",
       "    </tr>\n",
       "  </thead>\n",
       "  <tbody>\n",
       "    <tr>\n",
       "      <th>1000</th>\n",
       "      <td>John</td>\n",
       "      <td>33</td>\n",
       "      <td>USA</td>\n",
       "      <td>3.5</td>\n",
       "      <td>Ameryka</td>\n",
       "    </tr>\n",
       "    <tr>\n",
       "      <th>1001</th>\n",
       "      <td>Mark</td>\n",
       "      <td>55</td>\n",
       "      <td>Włochy</td>\n",
       "      <td>4.5</td>\n",
       "      <td>Europa</td>\n",
       "    </tr>\n",
       "  </tbody>\n",
       "</table>\n",
       "</div>"
      ],
      "text/plain": [
       "       imię  wiek    kraj  ocena kontynent\n",
       "numer                                     \n",
       "1000   John    33     USA    3.5   Ameryka\n",
       "1001   Mark    55  Włochy    4.5    Europa"
      ]
     },
     "execution_count": 472,
     "metadata": {},
     "output_type": "execute_result"
    }
   ],
   "source": [
    "df.head(2)"
   ]
  },
  {
   "cell_type": "code",
   "execution_count": 473,
   "metadata": {},
   "outputs": [
    {
     "data": {
      "text/html": [
       "<div>\n",
       "<style scoped>\n",
       "    .dataframe tbody tr th:only-of-type {\n",
       "        vertical-align: middle;\n",
       "    }\n",
       "\n",
       "    .dataframe tbody tr th {\n",
       "        vertical-align: top;\n",
       "    }\n",
       "\n",
       "    .dataframe thead th {\n",
       "        text-align: right;\n",
       "    }\n",
       "</style>\n",
       "<table border=\"1\" class=\"dataframe\">\n",
       "  <thead>\n",
       "    <tr style=\"text-align: right;\">\n",
       "      <th></th>\n",
       "      <th>imię</th>\n",
       "      <th>wiek</th>\n",
       "      <th>kraj</th>\n",
       "      <th>ocena</th>\n",
       "      <th>kontynent</th>\n",
       "    </tr>\n",
       "    <tr>\n",
       "      <th>numer</th>\n",
       "      <th></th>\n",
       "      <th></th>\n",
       "      <th></th>\n",
       "      <th></th>\n",
       "      <th></th>\n",
       "    </tr>\n",
       "  </thead>\n",
       "  <tbody>\n",
       "    <tr>\n",
       "      <th>1002</th>\n",
       "      <td>Tim</td>\n",
       "      <td>41</td>\n",
       "      <td>USA</td>\n",
       "      <td>2.0</td>\n",
       "      <td>Ameryka</td>\n",
       "    </tr>\n",
       "    <tr>\n",
       "      <th>1003</th>\n",
       "      <td>Jenny</td>\n",
       "      <td>12</td>\n",
       "      <td>Niemcy</td>\n",
       "      <td>5.0</td>\n",
       "      <td>Europa</td>\n",
       "    </tr>\n",
       "  </tbody>\n",
       "</table>\n",
       "</div>"
      ],
      "text/plain": [
       "        imię  wiek    kraj  ocena kontynent\n",
       "numer                                      \n",
       "1002     Tim    41     USA    2.0   Ameryka\n",
       "1003   Jenny    12  Niemcy    5.0    Europa"
      ]
     },
     "execution_count": 473,
     "metadata": {},
     "output_type": "execute_result"
    }
   ],
   "source": [
    "df.tail(2)"
   ]
  },
  {
   "attachments": {},
   "cell_type": "markdown",
   "metadata": {},
   "source": [
    "# Wybieranie danych - metoda loc"
   ]
  },
  {
   "cell_type": "code",
   "execution_count": 474,
   "metadata": {},
   "outputs": [
    {
     "data": {
      "text/html": [
       "<div>\n",
       "<style scoped>\n",
       "    .dataframe tbody tr th:only-of-type {\n",
       "        vertical-align: middle;\n",
       "    }\n",
       "\n",
       "    .dataframe tbody tr th {\n",
       "        vertical-align: top;\n",
       "    }\n",
       "\n",
       "    .dataframe thead th {\n",
       "        text-align: right;\n",
       "    }\n",
       "</style>\n",
       "<table border=\"1\" class=\"dataframe\">\n",
       "  <thead>\n",
       "    <tr style=\"text-align: right;\">\n",
       "      <th></th>\n",
       "      <th>imię</th>\n",
       "      <th>wiek</th>\n",
       "      <th>kraj</th>\n",
       "      <th>ocena</th>\n",
       "      <th>kontynent</th>\n",
       "    </tr>\n",
       "    <tr>\n",
       "      <th>numer</th>\n",
       "      <th></th>\n",
       "      <th></th>\n",
       "      <th></th>\n",
       "      <th></th>\n",
       "      <th></th>\n",
       "    </tr>\n",
       "  </thead>\n",
       "  <tbody>\n",
       "    <tr>\n",
       "      <th>1000</th>\n",
       "      <td>John</td>\n",
       "      <td>33</td>\n",
       "      <td>USA</td>\n",
       "      <td>3.5</td>\n",
       "      <td>Ameryka</td>\n",
       "    </tr>\n",
       "    <tr>\n",
       "      <th>1001</th>\n",
       "      <td>Mark</td>\n",
       "      <td>55</td>\n",
       "      <td>Włochy</td>\n",
       "      <td>4.5</td>\n",
       "      <td>Europa</td>\n",
       "    </tr>\n",
       "    <tr>\n",
       "      <th>1002</th>\n",
       "      <td>Tim</td>\n",
       "      <td>41</td>\n",
       "      <td>USA</td>\n",
       "      <td>2.0</td>\n",
       "      <td>Ameryka</td>\n",
       "    </tr>\n",
       "    <tr>\n",
       "      <th>1003</th>\n",
       "      <td>Jenny</td>\n",
       "      <td>12</td>\n",
       "      <td>Niemcy</td>\n",
       "      <td>5.0</td>\n",
       "      <td>Europa</td>\n",
       "    </tr>\n",
       "  </tbody>\n",
       "</table>\n",
       "</div>"
      ],
      "text/plain": [
       "        imię  wiek    kraj  ocena kontynent\n",
       "numer                                      \n",
       "1000    John    33     USA    3.5   Ameryka\n",
       "1001    Mark    55  Włochy    4.5    Europa\n",
       "1002     Tim    41     USA    2.0   Ameryka\n",
       "1003   Jenny    12  Niemcy    5.0    Europa"
      ]
     },
     "execution_count": 474,
     "metadata": {},
     "output_type": "execute_result"
    }
   ],
   "source": [
    "df"
   ]
  },
  {
   "cell_type": "code",
   "execution_count": 475,
   "metadata": {},
   "outputs": [
    {
     "data": {
      "text/plain": [
       "numer\n",
       "1000     John\n",
       "1001     Mark\n",
       "1002      Tim\n",
       "1003    Jenny\n",
       "Name: imię, dtype: object"
      ]
     },
     "execution_count": 475,
     "metadata": {},
     "output_type": "execute_result"
    }
   ],
   "source": [
    "df[\"imię\"]"
   ]
  },
  {
   "cell_type": "code",
   "execution_count": 476,
   "metadata": {},
   "outputs": [
    {
     "data": {
      "text/plain": [
       "pandas.core.series.Series"
      ]
     },
     "execution_count": 476,
     "metadata": {},
     "output_type": "execute_result"
    }
   ],
   "source": [
    "type(df[\"imię\"])"
   ]
  },
  {
   "cell_type": "code",
   "execution_count": 477,
   "metadata": {},
   "outputs": [
    {
     "data": {
      "text/html": [
       "<div>\n",
       "<style scoped>\n",
       "    .dataframe tbody tr th:only-of-type {\n",
       "        vertical-align: middle;\n",
       "    }\n",
       "\n",
       "    .dataframe tbody tr th {\n",
       "        vertical-align: top;\n",
       "    }\n",
       "\n",
       "    .dataframe thead th {\n",
       "        text-align: right;\n",
       "    }\n",
       "</style>\n",
       "<table border=\"1\" class=\"dataframe\">\n",
       "  <thead>\n",
       "    <tr style=\"text-align: right;\">\n",
       "      <th></th>\n",
       "      <th>imię</th>\n",
       "    </tr>\n",
       "    <tr>\n",
       "      <th>numer</th>\n",
       "      <th></th>\n",
       "    </tr>\n",
       "  </thead>\n",
       "  <tbody>\n",
       "    <tr>\n",
       "      <th>1000</th>\n",
       "      <td>John</td>\n",
       "    </tr>\n",
       "    <tr>\n",
       "      <th>1001</th>\n",
       "      <td>Mark</td>\n",
       "    </tr>\n",
       "    <tr>\n",
       "      <th>1002</th>\n",
       "      <td>Tim</td>\n",
       "    </tr>\n",
       "    <tr>\n",
       "      <th>1003</th>\n",
       "      <td>Jenny</td>\n",
       "    </tr>\n",
       "  </tbody>\n",
       "</table>\n",
       "</div>"
      ],
      "text/plain": [
       "        imię\n",
       "numer       \n",
       "1000    John\n",
       "1001    Mark\n",
       "1002     Tim\n",
       "1003   Jenny"
      ]
     },
     "execution_count": 477,
     "metadata": {},
     "output_type": "execute_result"
    }
   ],
   "source": [
    "df[[\"imię\"]]"
   ]
  },
  {
   "cell_type": "code",
   "execution_count": 478,
   "metadata": {},
   "outputs": [
    {
     "data": {
      "text/html": [
       "<div>\n",
       "<style scoped>\n",
       "    .dataframe tbody tr th:only-of-type {\n",
       "        vertical-align: middle;\n",
       "    }\n",
       "\n",
       "    .dataframe tbody tr th {\n",
       "        vertical-align: top;\n",
       "    }\n",
       "\n",
       "    .dataframe thead th {\n",
       "        text-align: right;\n",
       "    }\n",
       "</style>\n",
       "<table border=\"1\" class=\"dataframe\">\n",
       "  <thead>\n",
       "    <tr style=\"text-align: right;\">\n",
       "      <th></th>\n",
       "      <th>imię</th>\n",
       "      <th>kraj</th>\n",
       "    </tr>\n",
       "    <tr>\n",
       "      <th>numer</th>\n",
       "      <th></th>\n",
       "      <th></th>\n",
       "    </tr>\n",
       "  </thead>\n",
       "  <tbody>\n",
       "    <tr>\n",
       "      <th>1000</th>\n",
       "      <td>John</td>\n",
       "      <td>USA</td>\n",
       "    </tr>\n",
       "    <tr>\n",
       "      <th>1001</th>\n",
       "      <td>Mark</td>\n",
       "      <td>Włochy</td>\n",
       "    </tr>\n",
       "    <tr>\n",
       "      <th>1002</th>\n",
       "      <td>Tim</td>\n",
       "      <td>USA</td>\n",
       "    </tr>\n",
       "    <tr>\n",
       "      <th>1003</th>\n",
       "      <td>Jenny</td>\n",
       "      <td>Niemcy</td>\n",
       "    </tr>\n",
       "  </tbody>\n",
       "</table>\n",
       "</div>"
      ],
      "text/plain": [
       "        imię    kraj\n",
       "numer               \n",
       "1000    John     USA\n",
       "1001    Mark  Włochy\n",
       "1002     Tim     USA\n",
       "1003   Jenny  Niemcy"
      ]
     },
     "execution_count": 478,
     "metadata": {},
     "output_type": "execute_result"
    }
   ],
   "source": [
    "df[[\"imię\", \"kraj\"]]"
   ]
  },
  {
   "cell_type": "code",
   "execution_count": 479,
   "metadata": {},
   "outputs": [
    {
     "data": {
      "text/html": [
       "<div>\n",
       "<style scoped>\n",
       "    .dataframe tbody tr th:only-of-type {\n",
       "        vertical-align: middle;\n",
       "    }\n",
       "\n",
       "    .dataframe tbody tr th {\n",
       "        vertical-align: top;\n",
       "    }\n",
       "\n",
       "    .dataframe thead th {\n",
       "        text-align: right;\n",
       "    }\n",
       "</style>\n",
       "<table border=\"1\" class=\"dataframe\">\n",
       "  <thead>\n",
       "    <tr style=\"text-align: right;\">\n",
       "      <th></th>\n",
       "      <th>imię</th>\n",
       "      <th>kraj</th>\n",
       "    </tr>\n",
       "    <tr>\n",
       "      <th>numer</th>\n",
       "      <th></th>\n",
       "      <th></th>\n",
       "    </tr>\n",
       "  </thead>\n",
       "  <tbody>\n",
       "    <tr>\n",
       "      <th>1000</th>\n",
       "      <td>John</td>\n",
       "      <td>USA</td>\n",
       "    </tr>\n",
       "    <tr>\n",
       "      <th>1001</th>\n",
       "      <td>Mark</td>\n",
       "      <td>Włochy</td>\n",
       "    </tr>\n",
       "    <tr>\n",
       "      <th>1002</th>\n",
       "      <td>Tim</td>\n",
       "      <td>USA</td>\n",
       "    </tr>\n",
       "    <tr>\n",
       "      <th>1003</th>\n",
       "      <td>Jenny</td>\n",
       "      <td>Niemcy</td>\n",
       "    </tr>\n",
       "  </tbody>\n",
       "</table>\n",
       "</div>"
      ],
      "text/plain": [
       "        imię    kraj\n",
       "numer               \n",
       "1000    John     USA\n",
       "1001    Mark  Włochy\n",
       "1002     Tim     USA\n",
       "1003   Jenny  Niemcy"
      ]
     },
     "execution_count": 479,
     "metadata": {},
     "output_type": "execute_result"
    }
   ],
   "source": [
    "df.loc[:,[\"imię\", \"kraj\"]] # : (od do) wszytskie wiersze"
   ]
  },
  {
   "cell_type": "code",
   "execution_count": 480,
   "metadata": {},
   "outputs": [
    {
     "data": {
      "text/html": [
       "<div>\n",
       "<style scoped>\n",
       "    .dataframe tbody tr th:only-of-type {\n",
       "        vertical-align: middle;\n",
       "    }\n",
       "\n",
       "    .dataframe tbody tr th {\n",
       "        vertical-align: top;\n",
       "    }\n",
       "\n",
       "    .dataframe thead th {\n",
       "        text-align: right;\n",
       "    }\n",
       "</style>\n",
       "<table border=\"1\" class=\"dataframe\">\n",
       "  <thead>\n",
       "    <tr style=\"text-align: right;\">\n",
       "      <th></th>\n",
       "      <th>imię</th>\n",
       "      <th>kraj</th>\n",
       "    </tr>\n",
       "    <tr>\n",
       "      <th>numer</th>\n",
       "      <th></th>\n",
       "      <th></th>\n",
       "    </tr>\n",
       "  </thead>\n",
       "  <tbody>\n",
       "    <tr>\n",
       "      <th>1000</th>\n",
       "      <td>John</td>\n",
       "      <td>USA</td>\n",
       "    </tr>\n",
       "    <tr>\n",
       "      <th>1001</th>\n",
       "      <td>Mark</td>\n",
       "      <td>Włochy</td>\n",
       "    </tr>\n",
       "    <tr>\n",
       "      <th>1002</th>\n",
       "      <td>Tim</td>\n",
       "      <td>USA</td>\n",
       "    </tr>\n",
       "  </tbody>\n",
       "</table>\n",
       "</div>"
      ],
      "text/plain": [
       "       imię    kraj\n",
       "numer              \n",
       "1000   John     USA\n",
       "1001   Mark  Włochy\n",
       "1002    Tim     USA"
      ]
     },
     "execution_count": 480,
     "metadata": {},
     "output_type": "execute_result"
    }
   ],
   "source": [
    "df.loc[:1002,[\"imię\", \"kraj\"]] # zamknięty przedział TU: df.loc"
   ]
  },
  {
   "cell_type": "code",
   "execution_count": 481,
   "metadata": {},
   "outputs": [
    {
     "data": {
      "text/html": [
       "<div>\n",
       "<style scoped>\n",
       "    .dataframe tbody tr th:only-of-type {\n",
       "        vertical-align: middle;\n",
       "    }\n",
       "\n",
       "    .dataframe tbody tr th {\n",
       "        vertical-align: top;\n",
       "    }\n",
       "\n",
       "    .dataframe thead th {\n",
       "        text-align: right;\n",
       "    }\n",
       "</style>\n",
       "<table border=\"1\" class=\"dataframe\">\n",
       "  <thead>\n",
       "    <tr style=\"text-align: right;\">\n",
       "      <th></th>\n",
       "      <th>imię</th>\n",
       "      <th>kraj</th>\n",
       "    </tr>\n",
       "    <tr>\n",
       "      <th>numer</th>\n",
       "      <th></th>\n",
       "      <th></th>\n",
       "    </tr>\n",
       "  </thead>\n",
       "  <tbody>\n",
       "    <tr>\n",
       "      <th>1001</th>\n",
       "      <td>Mark</td>\n",
       "      <td>Włochy</td>\n",
       "    </tr>\n",
       "    <tr>\n",
       "      <th>1002</th>\n",
       "      <td>Tim</td>\n",
       "      <td>USA</td>\n",
       "    </tr>\n",
       "    <tr>\n",
       "      <th>1003</th>\n",
       "      <td>Jenny</td>\n",
       "      <td>Niemcy</td>\n",
       "    </tr>\n",
       "  </tbody>\n",
       "</table>\n",
       "</div>"
      ],
      "text/plain": [
       "        imię    kraj\n",
       "numer               \n",
       "1001    Mark  Włochy\n",
       "1002     Tim     USA\n",
       "1003   Jenny  Niemcy"
      ]
     },
     "execution_count": 481,
     "metadata": {},
     "output_type": "execute_result"
    }
   ],
   "source": [
    "df.loc[1001:,[\"imię\", \"kraj\"]]"
   ]
  },
  {
   "cell_type": "code",
   "execution_count": 482,
   "metadata": {},
   "outputs": [
    {
     "data": {
      "text/html": [
       "<div>\n",
       "<style scoped>\n",
       "    .dataframe tbody tr th:only-of-type {\n",
       "        vertical-align: middle;\n",
       "    }\n",
       "\n",
       "    .dataframe tbody tr th {\n",
       "        vertical-align: top;\n",
       "    }\n",
       "\n",
       "    .dataframe thead th {\n",
       "        text-align: right;\n",
       "    }\n",
       "</style>\n",
       "<table border=\"1\" class=\"dataframe\">\n",
       "  <thead>\n",
       "    <tr style=\"text-align: right;\">\n",
       "      <th></th>\n",
       "      <th>imię</th>\n",
       "      <th>kraj</th>\n",
       "    </tr>\n",
       "    <tr>\n",
       "      <th>numer</th>\n",
       "      <th></th>\n",
       "      <th></th>\n",
       "    </tr>\n",
       "  </thead>\n",
       "  <tbody>\n",
       "    <tr>\n",
       "      <th>1001</th>\n",
       "      <td>Mark</td>\n",
       "      <td>Włochy</td>\n",
       "    </tr>\n",
       "    <tr>\n",
       "      <th>1002</th>\n",
       "      <td>Tim</td>\n",
       "      <td>USA</td>\n",
       "    </tr>\n",
       "  </tbody>\n",
       "</table>\n",
       "</div>"
      ],
      "text/plain": [
       "       imię    kraj\n",
       "numer              \n",
       "1001   Mark  Włochy\n",
       "1002    Tim     USA"
      ]
     },
     "execution_count": 482,
     "metadata": {},
     "output_type": "execute_result"
    }
   ],
   "source": [
    "df.loc[[1001,1002],[\"imię\", \"kraj\"]]"
   ]
  },
  {
   "cell_type": "code",
   "execution_count": 483,
   "metadata": {},
   "outputs": [
    {
     "data": {
      "text/html": [
       "<div>\n",
       "<style scoped>\n",
       "    .dataframe tbody tr th:only-of-type {\n",
       "        vertical-align: middle;\n",
       "    }\n",
       "\n",
       "    .dataframe tbody tr th {\n",
       "        vertical-align: top;\n",
       "    }\n",
       "\n",
       "    .dataframe thead th {\n",
       "        text-align: right;\n",
       "    }\n",
       "</style>\n",
       "<table border=\"1\" class=\"dataframe\">\n",
       "  <thead>\n",
       "    <tr style=\"text-align: right;\">\n",
       "      <th></th>\n",
       "      <th>imię</th>\n",
       "      <th>wiek</th>\n",
       "      <th>kraj</th>\n",
       "      <th>ocena</th>\n",
       "      <th>kontynent</th>\n",
       "    </tr>\n",
       "    <tr>\n",
       "      <th>numer</th>\n",
       "      <th></th>\n",
       "      <th></th>\n",
       "      <th></th>\n",
       "      <th></th>\n",
       "      <th></th>\n",
       "    </tr>\n",
       "  </thead>\n",
       "  <tbody>\n",
       "    <tr>\n",
       "      <th>1000</th>\n",
       "      <td>John</td>\n",
       "      <td>33</td>\n",
       "      <td>USA</td>\n",
       "      <td>3.5</td>\n",
       "      <td>Ameryka</td>\n",
       "    </tr>\n",
       "    <tr>\n",
       "      <th>1001</th>\n",
       "      <td>Mark</td>\n",
       "      <td>55</td>\n",
       "      <td>Włochy</td>\n",
       "      <td>4.5</td>\n",
       "      <td>Europa</td>\n",
       "    </tr>\n",
       "    <tr>\n",
       "      <th>1002</th>\n",
       "      <td>Tim</td>\n",
       "      <td>41</td>\n",
       "      <td>USA</td>\n",
       "      <td>2.0</td>\n",
       "      <td>Ameryka</td>\n",
       "    </tr>\n",
       "    <tr>\n",
       "      <th>1003</th>\n",
       "      <td>Jenny</td>\n",
       "      <td>12</td>\n",
       "      <td>Niemcy</td>\n",
       "      <td>5.0</td>\n",
       "      <td>Europa</td>\n",
       "    </tr>\n",
       "  </tbody>\n",
       "</table>\n",
       "</div>"
      ],
      "text/plain": [
       "        imię  wiek    kraj  ocena kontynent\n",
       "numer                                      \n",
       "1000    John    33     USA    3.5   Ameryka\n",
       "1001    Mark    55  Włochy    4.5    Europa\n",
       "1002     Tim    41     USA    2.0   Ameryka\n",
       "1003   Jenny    12  Niemcy    5.0    Europa"
      ]
     },
     "execution_count": 483,
     "metadata": {},
     "output_type": "execute_result"
    }
   ],
   "source": [
    "df"
   ]
  },
  {
   "cell_type": "code",
   "execution_count": 484,
   "metadata": {},
   "outputs": [
    {
     "data": {
      "text/html": [
       "<div>\n",
       "<style scoped>\n",
       "    .dataframe tbody tr th:only-of-type {\n",
       "        vertical-align: middle;\n",
       "    }\n",
       "\n",
       "    .dataframe tbody tr th {\n",
       "        vertical-align: top;\n",
       "    }\n",
       "\n",
       "    .dataframe thead th {\n",
       "        text-align: right;\n",
       "    }\n",
       "</style>\n",
       "<table border=\"1\" class=\"dataframe\">\n",
       "  <thead>\n",
       "    <tr style=\"text-align: right;\">\n",
       "      <th></th>\n",
       "      <th>imię</th>\n",
       "      <th>wiek</th>\n",
       "      <th>kraj</th>\n",
       "    </tr>\n",
       "    <tr>\n",
       "      <th>numer</th>\n",
       "      <th></th>\n",
       "      <th></th>\n",
       "      <th></th>\n",
       "    </tr>\n",
       "  </thead>\n",
       "  <tbody>\n",
       "    <tr>\n",
       "      <th>1001</th>\n",
       "      <td>Mark</td>\n",
       "      <td>55</td>\n",
       "      <td>Włochy</td>\n",
       "    </tr>\n",
       "    <tr>\n",
       "      <th>1002</th>\n",
       "      <td>Tim</td>\n",
       "      <td>41</td>\n",
       "      <td>USA</td>\n",
       "    </tr>\n",
       "  </tbody>\n",
       "</table>\n",
       "</div>"
      ],
      "text/plain": [
       "       imię  wiek    kraj\n",
       "numer                    \n",
       "1001   Mark    55  Włochy\n",
       "1002    Tim    41     USA"
      ]
     },
     "execution_count": 484,
     "metadata": {},
     "output_type": "execute_result"
    }
   ],
   "source": [
    "df.loc[1001:1002, \"imię\":\"kraj\"]"
   ]
  },
  {
   "cell_type": "code",
   "execution_count": 485,
   "metadata": {},
   "outputs": [
    {
     "data": {
      "text/plain": [
       "'Mark'"
      ]
     },
     "execution_count": 485,
     "metadata": {},
     "output_type": "execute_result"
    }
   ],
   "source": [
    "df.loc[1001,\"imię\"]"
   ]
  },
  {
   "cell_type": "code",
   "execution_count": 486,
   "metadata": {},
   "outputs": [
    {
     "data": {
      "text/html": [
       "<div>\n",
       "<style scoped>\n",
       "    .dataframe tbody tr th:only-of-type {\n",
       "        vertical-align: middle;\n",
       "    }\n",
       "\n",
       "    .dataframe tbody tr th {\n",
       "        vertical-align: top;\n",
       "    }\n",
       "\n",
       "    .dataframe thead th {\n",
       "        text-align: right;\n",
       "    }\n",
       "</style>\n",
       "<table border=\"1\" class=\"dataframe\">\n",
       "  <thead>\n",
       "    <tr style=\"text-align: right;\">\n",
       "      <th></th>\n",
       "      <th>imię</th>\n",
       "      <th>wiek</th>\n",
       "      <th>kraj</th>\n",
       "      <th>ocena</th>\n",
       "      <th>kontynent</th>\n",
       "    </tr>\n",
       "    <tr>\n",
       "      <th>numer</th>\n",
       "      <th></th>\n",
       "      <th></th>\n",
       "      <th></th>\n",
       "      <th></th>\n",
       "      <th></th>\n",
       "    </tr>\n",
       "  </thead>\n",
       "  <tbody>\n",
       "    <tr>\n",
       "      <th>1003</th>\n",
       "      <td>Jenny</td>\n",
       "      <td>12</td>\n",
       "      <td>Niemcy</td>\n",
       "      <td>5.0</td>\n",
       "      <td>Europa</td>\n",
       "    </tr>\n",
       "    <tr>\n",
       "      <th>1000</th>\n",
       "      <td>John</td>\n",
       "      <td>33</td>\n",
       "      <td>USA</td>\n",
       "      <td>3.5</td>\n",
       "      <td>Ameryka</td>\n",
       "    </tr>\n",
       "  </tbody>\n",
       "</table>\n",
       "</div>"
      ],
      "text/plain": [
       "        imię  wiek    kraj  ocena kontynent\n",
       "numer                                      \n",
       "1003   Jenny    12  Niemcy    5.0    Europa\n",
       "1000    John    33     USA    3.5   Ameryka"
      ]
     },
     "execution_count": 486,
     "metadata": {},
     "output_type": "execute_result"
    }
   ],
   "source": [
    "df.loc[[1003,1000],:]"
   ]
  },
  {
   "cell_type": "code",
   "execution_count": 487,
   "metadata": {},
   "outputs": [
    {
     "data": {
      "text/html": [
       "<div>\n",
       "<style scoped>\n",
       "    .dataframe tbody tr th:only-of-type {\n",
       "        vertical-align: middle;\n",
       "    }\n",
       "\n",
       "    .dataframe tbody tr th {\n",
       "        vertical-align: top;\n",
       "    }\n",
       "\n",
       "    .dataframe thead th {\n",
       "        text-align: right;\n",
       "    }\n",
       "</style>\n",
       "<table border=\"1\" class=\"dataframe\">\n",
       "  <thead>\n",
       "    <tr style=\"text-align: right;\">\n",
       "      <th></th>\n",
       "      <th>imię</th>\n",
       "      <th>wiek</th>\n",
       "      <th>kraj</th>\n",
       "      <th>ocena</th>\n",
       "    </tr>\n",
       "    <tr>\n",
       "      <th>numer</th>\n",
       "      <th></th>\n",
       "      <th></th>\n",
       "      <th></th>\n",
       "      <th></th>\n",
       "    </tr>\n",
       "  </thead>\n",
       "  <tbody>\n",
       "    <tr>\n",
       "      <th>1003</th>\n",
       "      <td>Jenny</td>\n",
       "      <td>12</td>\n",
       "      <td>Niemcy</td>\n",
       "      <td>5.0</td>\n",
       "    </tr>\n",
       "    <tr>\n",
       "      <th>1000</th>\n",
       "      <td>John</td>\n",
       "      <td>33</td>\n",
       "      <td>USA</td>\n",
       "      <td>3.5</td>\n",
       "    </tr>\n",
       "  </tbody>\n",
       "</table>\n",
       "</div>"
      ],
      "text/plain": [
       "        imię  wiek    kraj  ocena\n",
       "numer                            \n",
       "1003   Jenny    12  Niemcy    5.0\n",
       "1000    John    33     USA    3.5"
      ]
     },
     "execution_count": 487,
     "metadata": {},
     "output_type": "execute_result"
    }
   ],
   "source": [
    "df.loc[[1003,1000],\"imię\":\"ocena\"]"
   ]
  },
  {
   "cell_type": "code",
   "execution_count": 488,
   "metadata": {},
   "outputs": [
    {
     "data": {
      "text/html": [
       "<div>\n",
       "<style scoped>\n",
       "    .dataframe tbody tr th:only-of-type {\n",
       "        vertical-align: middle;\n",
       "    }\n",
       "\n",
       "    .dataframe tbody tr th {\n",
       "        vertical-align: top;\n",
       "    }\n",
       "\n",
       "    .dataframe thead th {\n",
       "        text-align: right;\n",
       "    }\n",
       "</style>\n",
       "<table border=\"1\" class=\"dataframe\">\n",
       "  <thead>\n",
       "    <tr style=\"text-align: right;\">\n",
       "      <th></th>\n",
       "      <th>imię</th>\n",
       "      <th>ocena</th>\n",
       "    </tr>\n",
       "    <tr>\n",
       "      <th>numer</th>\n",
       "      <th></th>\n",
       "      <th></th>\n",
       "    </tr>\n",
       "  </thead>\n",
       "  <tbody>\n",
       "    <tr>\n",
       "      <th>1003</th>\n",
       "      <td>Jenny</td>\n",
       "      <td>5.0</td>\n",
       "    </tr>\n",
       "    <tr>\n",
       "      <th>1000</th>\n",
       "      <td>John</td>\n",
       "      <td>3.5</td>\n",
       "    </tr>\n",
       "  </tbody>\n",
       "</table>\n",
       "</div>"
      ],
      "text/plain": [
       "        imię  ocena\n",
       "numer              \n",
       "1003   Jenny    5.0\n",
       "1000    John    3.5"
      ]
     },
     "execution_count": 488,
     "metadata": {},
     "output_type": "execute_result"
    }
   ],
   "source": [
    "df.loc[[1003,1000],[\"imię\",\"ocena\"]]"
   ]
  },
  {
   "attachments": {},
   "cell_type": "markdown",
   "metadata": {},
   "source": [
    "# Wybieranie danych na podstawie pozycji - metoda iloc"
   ]
  },
  {
   "cell_type": "code",
   "execution_count": 489,
   "metadata": {},
   "outputs": [
    {
     "data": {
      "text/html": [
       "<div>\n",
       "<style scoped>\n",
       "    .dataframe tbody tr th:only-of-type {\n",
       "        vertical-align: middle;\n",
       "    }\n",
       "\n",
       "    .dataframe tbody tr th {\n",
       "        vertical-align: top;\n",
       "    }\n",
       "\n",
       "    .dataframe thead th {\n",
       "        text-align: right;\n",
       "    }\n",
       "</style>\n",
       "<table border=\"1\" class=\"dataframe\">\n",
       "  <thead>\n",
       "    <tr style=\"text-align: right;\">\n",
       "      <th></th>\n",
       "      <th>imię</th>\n",
       "      <th>wiek</th>\n",
       "      <th>kraj</th>\n",
       "      <th>ocena</th>\n",
       "      <th>kontynent</th>\n",
       "    </tr>\n",
       "    <tr>\n",
       "      <th>numer</th>\n",
       "      <th></th>\n",
       "      <th></th>\n",
       "      <th></th>\n",
       "      <th></th>\n",
       "      <th></th>\n",
       "    </tr>\n",
       "  </thead>\n",
       "  <tbody>\n",
       "    <tr>\n",
       "      <th>1000</th>\n",
       "      <td>John</td>\n",
       "      <td>33</td>\n",
       "      <td>USA</td>\n",
       "      <td>3.5</td>\n",
       "      <td>Ameryka</td>\n",
       "    </tr>\n",
       "    <tr>\n",
       "      <th>1001</th>\n",
       "      <td>Mark</td>\n",
       "      <td>55</td>\n",
       "      <td>Włochy</td>\n",
       "      <td>4.5</td>\n",
       "      <td>Europa</td>\n",
       "    </tr>\n",
       "    <tr>\n",
       "      <th>1002</th>\n",
       "      <td>Tim</td>\n",
       "      <td>41</td>\n",
       "      <td>USA</td>\n",
       "      <td>2.0</td>\n",
       "      <td>Ameryka</td>\n",
       "    </tr>\n",
       "    <tr>\n",
       "      <th>1003</th>\n",
       "      <td>Jenny</td>\n",
       "      <td>12</td>\n",
       "      <td>Niemcy</td>\n",
       "      <td>5.0</td>\n",
       "      <td>Europa</td>\n",
       "    </tr>\n",
       "  </tbody>\n",
       "</table>\n",
       "</div>"
      ],
      "text/plain": [
       "        imię  wiek    kraj  ocena kontynent\n",
       "numer                                      \n",
       "1000    John    33     USA    3.5   Ameryka\n",
       "1001    Mark    55  Włochy    4.5    Europa\n",
       "1002     Tim    41     USA    2.0   Ameryka\n",
       "1003   Jenny    12  Niemcy    5.0    Europa"
      ]
     },
     "execution_count": 489,
     "metadata": {},
     "output_type": "execute_result"
    }
   ],
   "source": [
    "df"
   ]
  },
  {
   "cell_type": "code",
   "execution_count": 490,
   "metadata": {},
   "outputs": [
    {
     "data": {
      "text/plain": [
       "'John'"
      ]
     },
     "execution_count": 490,
     "metadata": {},
     "output_type": "execute_result"
    }
   ],
   "source": [
    "df.iloc[0,0]  # rb to samo co loc, ale pozycyjnie"
   ]
  },
  {
   "cell_type": "code",
   "execution_count": 491,
   "metadata": {},
   "outputs": [
    {
     "data": {
      "text/html": [
       "<div>\n",
       "<style scoped>\n",
       "    .dataframe tbody tr th:only-of-type {\n",
       "        vertical-align: middle;\n",
       "    }\n",
       "\n",
       "    .dataframe tbody tr th {\n",
       "        vertical-align: top;\n",
       "    }\n",
       "\n",
       "    .dataframe thead th {\n",
       "        text-align: right;\n",
       "    }\n",
       "</style>\n",
       "<table border=\"1\" class=\"dataframe\">\n",
       "  <thead>\n",
       "    <tr style=\"text-align: right;\">\n",
       "      <th></th>\n",
       "      <th>ocena</th>\n",
       "      <th>kontynent</th>\n",
       "    </tr>\n",
       "    <tr>\n",
       "      <th>numer</th>\n",
       "      <th></th>\n",
       "      <th></th>\n",
       "    </tr>\n",
       "  </thead>\n",
       "  <tbody>\n",
       "    <tr>\n",
       "      <th>1000</th>\n",
       "      <td>3.5</td>\n",
       "      <td>Ameryka</td>\n",
       "    </tr>\n",
       "  </tbody>\n",
       "</table>\n",
       "</div>"
      ],
      "text/plain": [
       "       ocena kontynent\n",
       "numer                 \n",
       "1000     3.5   Ameryka"
      ]
     },
     "execution_count": 491,
     "metadata": {},
     "output_type": "execute_result"
    }
   ],
   "source": [
    "df.iloc[:1,3:]"
   ]
  },
  {
   "cell_type": "code",
   "execution_count": 492,
   "metadata": {},
   "outputs": [
    {
     "data": {
      "text/html": [
       "<div>\n",
       "<style scoped>\n",
       "    .dataframe tbody tr th:only-of-type {\n",
       "        vertical-align: middle;\n",
       "    }\n",
       "\n",
       "    .dataframe tbody tr th {\n",
       "        vertical-align: top;\n",
       "    }\n",
       "\n",
       "    .dataframe thead th {\n",
       "        text-align: right;\n",
       "    }\n",
       "</style>\n",
       "<table border=\"1\" class=\"dataframe\">\n",
       "  <thead>\n",
       "    <tr style=\"text-align: right;\">\n",
       "      <th></th>\n",
       "      <th>wiek</th>\n",
       "      <th>kraj</th>\n",
       "    </tr>\n",
       "    <tr>\n",
       "      <th>numer</th>\n",
       "      <th></th>\n",
       "      <th></th>\n",
       "    </tr>\n",
       "  </thead>\n",
       "  <tbody>\n",
       "    <tr>\n",
       "      <th>1000</th>\n",
       "      <td>33</td>\n",
       "      <td>USA</td>\n",
       "    </tr>\n",
       "    <tr>\n",
       "      <th>1001</th>\n",
       "      <td>55</td>\n",
       "      <td>Włochy</td>\n",
       "    </tr>\n",
       "    <tr>\n",
       "      <th>1002</th>\n",
       "      <td>41</td>\n",
       "      <td>USA</td>\n",
       "    </tr>\n",
       "    <tr>\n",
       "      <th>1003</th>\n",
       "      <td>12</td>\n",
       "      <td>Niemcy</td>\n",
       "    </tr>\n",
       "  </tbody>\n",
       "</table>\n",
       "</div>"
      ],
      "text/plain": [
       "       wiek    kraj\n",
       "numer              \n",
       "1000     33     USA\n",
       "1001     55  Włochy\n",
       "1002     41     USA\n",
       "1003     12  Niemcy"
      ]
     },
     "execution_count": 492,
     "metadata": {},
     "output_type": "execute_result"
    }
   ],
   "source": [
    "df.iloc[:, [1,2]]"
   ]
  },
  {
   "attachments": {},
   "cell_type": "markdown",
   "metadata": {},
   "source": [
    "# Wybieranie danych przy użyciu indeksowania logicznego"
   ]
  },
  {
   "cell_type": "code",
   "execution_count": 493,
   "metadata": {},
   "outputs": [
    {
     "data": {
      "text/html": [
       "<div>\n",
       "<style scoped>\n",
       "    .dataframe tbody tr th:only-of-type {\n",
       "        vertical-align: middle;\n",
       "    }\n",
       "\n",
       "    .dataframe tbody tr th {\n",
       "        vertical-align: top;\n",
       "    }\n",
       "\n",
       "    .dataframe thead th {\n",
       "        text-align: right;\n",
       "    }\n",
       "</style>\n",
       "<table border=\"1\" class=\"dataframe\">\n",
       "  <thead>\n",
       "    <tr style=\"text-align: right;\">\n",
       "      <th></th>\n",
       "      <th>imię</th>\n",
       "      <th>wiek</th>\n",
       "      <th>kraj</th>\n",
       "      <th>ocena</th>\n",
       "      <th>kontynent</th>\n",
       "    </tr>\n",
       "    <tr>\n",
       "      <th>numer</th>\n",
       "      <th></th>\n",
       "      <th></th>\n",
       "      <th></th>\n",
       "      <th></th>\n",
       "      <th></th>\n",
       "    </tr>\n",
       "  </thead>\n",
       "  <tbody>\n",
       "    <tr>\n",
       "      <th>1000</th>\n",
       "      <td>John</td>\n",
       "      <td>33</td>\n",
       "      <td>USA</td>\n",
       "      <td>3.5</td>\n",
       "      <td>Ameryka</td>\n",
       "    </tr>\n",
       "    <tr>\n",
       "      <th>1001</th>\n",
       "      <td>Mark</td>\n",
       "      <td>55</td>\n",
       "      <td>Włochy</td>\n",
       "      <td>4.5</td>\n",
       "      <td>Europa</td>\n",
       "    </tr>\n",
       "    <tr>\n",
       "      <th>1002</th>\n",
       "      <td>Tim</td>\n",
       "      <td>41</td>\n",
       "      <td>USA</td>\n",
       "      <td>2.0</td>\n",
       "      <td>Ameryka</td>\n",
       "    </tr>\n",
       "    <tr>\n",
       "      <th>1003</th>\n",
       "      <td>Jenny</td>\n",
       "      <td>12</td>\n",
       "      <td>Niemcy</td>\n",
       "      <td>5.0</td>\n",
       "      <td>Europa</td>\n",
       "    </tr>\n",
       "  </tbody>\n",
       "</table>\n",
       "</div>"
      ],
      "text/plain": [
       "        imię  wiek    kraj  ocena kontynent\n",
       "numer                                      \n",
       "1000    John    33     USA    3.5   Ameryka\n",
       "1001    Mark    55  Włochy    4.5    Europa\n",
       "1002     Tim    41     USA    2.0   Ameryka\n",
       "1003   Jenny    12  Niemcy    5.0    Europa"
      ]
     },
     "execution_count": 493,
     "metadata": {},
     "output_type": "execute_result"
    }
   ],
   "source": [
    "df"
   ]
  },
  {
   "cell_type": "code",
   "execution_count": 494,
   "metadata": {},
   "outputs": [
    {
     "data": {
      "text/plain": [
       "numer\n",
       "1000    False\n",
       "1001    False\n",
       "1002     True\n",
       "1003    False\n",
       "dtype: bool"
      ]
     },
     "execution_count": 494,
     "metadata": {},
     "output_type": "execute_result"
    }
   ],
   "source": [
    "tf = (df[\"wiek\"] > 40) & (df[\"kraj\"] ==\"USA\")\n",
    "tf"
   ]
  },
  {
   "cell_type": "code",
   "execution_count": 495,
   "metadata": {},
   "outputs": [
    {
     "data": {
      "text/html": [
       "<div>\n",
       "<style scoped>\n",
       "    .dataframe tbody tr th:only-of-type {\n",
       "        vertical-align: middle;\n",
       "    }\n",
       "\n",
       "    .dataframe tbody tr th {\n",
       "        vertical-align: top;\n",
       "    }\n",
       "\n",
       "    .dataframe thead th {\n",
       "        text-align: right;\n",
       "    }\n",
       "</style>\n",
       "<table border=\"1\" class=\"dataframe\">\n",
       "  <thead>\n",
       "    <tr style=\"text-align: right;\">\n",
       "      <th></th>\n",
       "      <th>imię</th>\n",
       "      <th>wiek</th>\n",
       "      <th>kraj</th>\n",
       "      <th>ocena</th>\n",
       "      <th>kontynent</th>\n",
       "    </tr>\n",
       "    <tr>\n",
       "      <th>numer</th>\n",
       "      <th></th>\n",
       "      <th></th>\n",
       "      <th></th>\n",
       "      <th></th>\n",
       "      <th></th>\n",
       "    </tr>\n",
       "  </thead>\n",
       "  <tbody>\n",
       "    <tr>\n",
       "      <th>1002</th>\n",
       "      <td>Tim</td>\n",
       "      <td>41</td>\n",
       "      <td>USA</td>\n",
       "      <td>2.0</td>\n",
       "      <td>Ameryka</td>\n",
       "    </tr>\n",
       "  </tbody>\n",
       "</table>\n",
       "</div>"
      ],
      "text/plain": [
       "      imię  wiek kraj  ocena kontynent\n",
       "numer                                 \n",
       "1002   Tim    41  USA    2.0   Ameryka"
      ]
     },
     "execution_count": 495,
     "metadata": {},
     "output_type": "execute_result"
    }
   ],
   "source": [
    "df.loc[tf,:]"
   ]
  },
  {
   "cell_type": "code",
   "execution_count": 496,
   "metadata": {},
   "outputs": [
    {
     "data": {
      "text/html": [
       "<div>\n",
       "<style scoped>\n",
       "    .dataframe tbody tr th:only-of-type {\n",
       "        vertical-align: middle;\n",
       "    }\n",
       "\n",
       "    .dataframe tbody tr th {\n",
       "        vertical-align: top;\n",
       "    }\n",
       "\n",
       "    .dataframe thead th {\n",
       "        text-align: right;\n",
       "    }\n",
       "</style>\n",
       "<table border=\"1\" class=\"dataframe\">\n",
       "  <thead>\n",
       "    <tr style=\"text-align: right;\">\n",
       "      <th></th>\n",
       "      <th>imię</th>\n",
       "      <th>wiek</th>\n",
       "      <th>kraj</th>\n",
       "      <th>ocena</th>\n",
       "      <th>kontynent</th>\n",
       "    </tr>\n",
       "    <tr>\n",
       "      <th>numer</th>\n",
       "      <th></th>\n",
       "      <th></th>\n",
       "      <th></th>\n",
       "      <th></th>\n",
       "      <th></th>\n",
       "    </tr>\n",
       "  </thead>\n",
       "  <tbody>\n",
       "    <tr>\n",
       "      <th>1002</th>\n",
       "      <td>Tim</td>\n",
       "      <td>41</td>\n",
       "      <td>USA</td>\n",
       "      <td>2.0</td>\n",
       "      <td>Ameryka</td>\n",
       "    </tr>\n",
       "  </tbody>\n",
       "</table>\n",
       "</div>"
      ],
      "text/plain": [
       "      imię  wiek kraj  ocena kontynent\n",
       "numer                                 \n",
       "1002   Tim    41  USA    2.0   Ameryka"
      ]
     },
     "execution_count": 496,
     "metadata": {},
     "output_type": "execute_result"
    }
   ],
   "source": [
    "# operatory w pandasie !!\n",
    "# and => &\n",
    "# or => |\n",
    "# not => ~\n",
    "df[(df[\"wiek\"] > 40) & (df[\"kraj\"] ==\"USA\")]"
   ]
  },
  {
   "cell_type": "code",
   "execution_count": 497,
   "metadata": {},
   "outputs": [
    {
     "data": {
      "text/html": [
       "<div>\n",
       "<style scoped>\n",
       "    .dataframe tbody tr th:only-of-type {\n",
       "        vertical-align: middle;\n",
       "    }\n",
       "\n",
       "    .dataframe tbody tr th {\n",
       "        vertical-align: top;\n",
       "    }\n",
       "\n",
       "    .dataframe thead th {\n",
       "        text-align: right;\n",
       "    }\n",
       "</style>\n",
       "<table border=\"1\" class=\"dataframe\">\n",
       "  <thead>\n",
       "    <tr style=\"text-align: right;\">\n",
       "      <th></th>\n",
       "      <th>imię</th>\n",
       "      <th>wiek</th>\n",
       "      <th>kraj</th>\n",
       "      <th>ocena</th>\n",
       "      <th>kontynent</th>\n",
       "    </tr>\n",
       "    <tr>\n",
       "      <th>numer</th>\n",
       "      <th></th>\n",
       "      <th></th>\n",
       "      <th></th>\n",
       "      <th></th>\n",
       "      <th></th>\n",
       "    </tr>\n",
       "  </thead>\n",
       "  <tbody>\n",
       "    <tr>\n",
       "      <th>1000</th>\n",
       "      <td>John</td>\n",
       "      <td>33</td>\n",
       "      <td>USA</td>\n",
       "      <td>3.5</td>\n",
       "      <td>Ameryka</td>\n",
       "    </tr>\n",
       "    <tr>\n",
       "      <th>1001</th>\n",
       "      <td>Mark</td>\n",
       "      <td>55</td>\n",
       "      <td>Włochy</td>\n",
       "      <td>4.5</td>\n",
       "      <td>Europa</td>\n",
       "    </tr>\n",
       "    <tr>\n",
       "      <th>1002</th>\n",
       "      <td>Tim</td>\n",
       "      <td>41</td>\n",
       "      <td>USA</td>\n",
       "      <td>2.0</td>\n",
       "      <td>Ameryka</td>\n",
       "    </tr>\n",
       "  </tbody>\n",
       "</table>\n",
       "</div>"
      ],
      "text/plain": [
       "       imię  wiek    kraj  ocena kontynent\n",
       "numer                                     \n",
       "1000   John    33     USA    3.5   Ameryka\n",
       "1001   Mark    55  Włochy    4.5    Europa\n",
       "1002    Tim    41     USA    2.0   Ameryka"
      ]
     },
     "execution_count": 497,
     "metadata": {},
     "output_type": "execute_result"
    }
   ],
   "source": [
    "df[(df[\"wiek\"] > 40) | (df[\"kraj\"] ==\"USA\")]"
   ]
  },
  {
   "attachments": {},
   "cell_type": "markdown",
   "metadata": {},
   "source": [
    "# Ustawianie danych/przypisywanie wartości na podstawie pozycji"
   ]
  },
  {
   "cell_type": "code",
   "execution_count": 498,
   "metadata": {},
   "outputs": [
    {
     "data": {
      "text/html": [
       "<div>\n",
       "<style scoped>\n",
       "    .dataframe tbody tr th:only-of-type {\n",
       "        vertical-align: middle;\n",
       "    }\n",
       "\n",
       "    .dataframe tbody tr th {\n",
       "        vertical-align: top;\n",
       "    }\n",
       "\n",
       "    .dataframe thead th {\n",
       "        text-align: right;\n",
       "    }\n",
       "</style>\n",
       "<table border=\"1\" class=\"dataframe\">\n",
       "  <thead>\n",
       "    <tr style=\"text-align: right;\">\n",
       "      <th></th>\n",
       "      <th>imię</th>\n",
       "      <th>wiek</th>\n",
       "      <th>kraj</th>\n",
       "      <th>ocena</th>\n",
       "      <th>kontynent</th>\n",
       "    </tr>\n",
       "    <tr>\n",
       "      <th>numer</th>\n",
       "      <th></th>\n",
       "      <th></th>\n",
       "      <th></th>\n",
       "      <th></th>\n",
       "      <th></th>\n",
       "    </tr>\n",
       "  </thead>\n",
       "  <tbody>\n",
       "    <tr>\n",
       "      <th>1000</th>\n",
       "      <td>John</td>\n",
       "      <td>33</td>\n",
       "      <td>USA</td>\n",
       "      <td>3.5</td>\n",
       "      <td>Ameryka</td>\n",
       "    </tr>\n",
       "    <tr>\n",
       "      <th>1001</th>\n",
       "      <td>Mark</td>\n",
       "      <td>55</td>\n",
       "      <td>Włochy</td>\n",
       "      <td>4.5</td>\n",
       "      <td>Europa</td>\n",
       "    </tr>\n",
       "    <tr>\n",
       "      <th>1002</th>\n",
       "      <td>Tim</td>\n",
       "      <td>41</td>\n",
       "      <td>USA</td>\n",
       "      <td>2.0</td>\n",
       "      <td>Ameryka</td>\n",
       "    </tr>\n",
       "    <tr>\n",
       "      <th>1003</th>\n",
       "      <td>Jenny</td>\n",
       "      <td>12</td>\n",
       "      <td>Niemcy</td>\n",
       "      <td>5.0</td>\n",
       "      <td>Europa</td>\n",
       "    </tr>\n",
       "  </tbody>\n",
       "</table>\n",
       "</div>"
      ],
      "text/plain": [
       "        imię  wiek    kraj  ocena kontynent\n",
       "numer                                      \n",
       "1000    John    33     USA    3.5   Ameryka\n",
       "1001    Mark    55  Włochy    4.5    Europa\n",
       "1002     Tim    41     USA    2.0   Ameryka\n",
       "1003   Jenny    12  Niemcy    5.0    Europa"
      ]
     },
     "execution_count": 498,
     "metadata": {},
     "output_type": "execute_result"
    }
   ],
   "source": [
    "df"
   ]
  },
  {
   "cell_type": "code",
   "execution_count": 499,
   "metadata": {},
   "outputs": [],
   "source": [
    "df2=df.copy()"
   ]
  },
  {
   "cell_type": "code",
   "execution_count": 500,
   "metadata": {},
   "outputs": [
    {
     "data": {
      "text/plain": [
       "'John'"
      ]
     },
     "execution_count": 500,
     "metadata": {},
     "output_type": "execute_result"
    }
   ],
   "source": [
    "# Lokalizuje/wyświetlam konkretną część tabeli\n",
    "df2.loc[1000,\"imię\"]"
   ]
  },
  {
   "cell_type": "code",
   "execution_count": 501,
   "metadata": {},
   "outputs": [],
   "source": [
    "# Lokalizuje i przypisuje konkretną wartość\n",
    "df2.loc[1000, \"imię\"] = \"JOHN\""
   ]
  },
  {
   "cell_type": "code",
   "execution_count": 502,
   "metadata": {},
   "outputs": [
    {
     "data": {
      "text/html": [
       "<div>\n",
       "<style scoped>\n",
       "    .dataframe tbody tr th:only-of-type {\n",
       "        vertical-align: middle;\n",
       "    }\n",
       "\n",
       "    .dataframe tbody tr th {\n",
       "        vertical-align: top;\n",
       "    }\n",
       "\n",
       "    .dataframe thead th {\n",
       "        text-align: right;\n",
       "    }\n",
       "</style>\n",
       "<table border=\"1\" class=\"dataframe\">\n",
       "  <thead>\n",
       "    <tr style=\"text-align: right;\">\n",
       "      <th></th>\n",
       "      <th>imię</th>\n",
       "      <th>wiek</th>\n",
       "      <th>kraj</th>\n",
       "      <th>ocena</th>\n",
       "      <th>kontynent</th>\n",
       "    </tr>\n",
       "    <tr>\n",
       "      <th>numer</th>\n",
       "      <th></th>\n",
       "      <th></th>\n",
       "      <th></th>\n",
       "      <th></th>\n",
       "      <th></th>\n",
       "    </tr>\n",
       "  </thead>\n",
       "  <tbody>\n",
       "    <tr>\n",
       "      <th>1000</th>\n",
       "      <td>JOHN</td>\n",
       "      <td>33</td>\n",
       "      <td>USA</td>\n",
       "      <td>3.5</td>\n",
       "      <td>Ameryka</td>\n",
       "    </tr>\n",
       "    <tr>\n",
       "      <th>1001</th>\n",
       "      <td>Mark</td>\n",
       "      <td>55</td>\n",
       "      <td>Włochy</td>\n",
       "      <td>4.5</td>\n",
       "      <td>Europa</td>\n",
       "    </tr>\n",
       "    <tr>\n",
       "      <th>1002</th>\n",
       "      <td>Tim</td>\n",
       "      <td>41</td>\n",
       "      <td>USA</td>\n",
       "      <td>2.0</td>\n",
       "      <td>Ameryka</td>\n",
       "    </tr>\n",
       "    <tr>\n",
       "      <th>1003</th>\n",
       "      <td>Jenny</td>\n",
       "      <td>12</td>\n",
       "      <td>Niemcy</td>\n",
       "      <td>5.0</td>\n",
       "      <td>Europa</td>\n",
       "    </tr>\n",
       "  </tbody>\n",
       "</table>\n",
       "</div>"
      ],
      "text/plain": [
       "        imię  wiek    kraj  ocena kontynent\n",
       "numer                                      \n",
       "1000    JOHN    33     USA    3.5   Ameryka\n",
       "1001    Mark    55  Włochy    4.5    Europa\n",
       "1002     Tim    41     USA    2.0   Ameryka\n",
       "1003   Jenny    12  Niemcy    5.0    Europa"
      ]
     },
     "execution_count": 502,
     "metadata": {},
     "output_type": "execute_result"
    }
   ],
   "source": [
    "df2"
   ]
  },
  {
   "cell_type": "code",
   "execution_count": 503,
   "metadata": {},
   "outputs": [
    {
     "data": {
      "text/html": [
       "<div>\n",
       "<style scoped>\n",
       "    .dataframe tbody tr th:only-of-type {\n",
       "        vertical-align: middle;\n",
       "    }\n",
       "\n",
       "    .dataframe tbody tr th {\n",
       "        vertical-align: top;\n",
       "    }\n",
       "\n",
       "    .dataframe thead th {\n",
       "        text-align: right;\n",
       "    }\n",
       "</style>\n",
       "<table border=\"1\" class=\"dataframe\">\n",
       "  <thead>\n",
       "    <tr style=\"text-align: right;\">\n",
       "      <th></th>\n",
       "      <th>imię</th>\n",
       "      <th>wiek</th>\n",
       "      <th>kraj</th>\n",
       "      <th>ocena</th>\n",
       "      <th>kontynent</th>\n",
       "    </tr>\n",
       "    <tr>\n",
       "      <th>numer</th>\n",
       "      <th></th>\n",
       "      <th></th>\n",
       "      <th></th>\n",
       "      <th></th>\n",
       "      <th></th>\n",
       "    </tr>\n",
       "  </thead>\n",
       "  <tbody>\n",
       "    <tr>\n",
       "      <th>1000</th>\n",
       "      <td>JOHN</td>\n",
       "      <td>33</td>\n",
       "      <td>USA</td>\n",
       "      <td>3.0</td>\n",
       "      <td>Ameryka</td>\n",
       "    </tr>\n",
       "    <tr>\n",
       "      <th>1001</th>\n",
       "      <td>Mark</td>\n",
       "      <td>55</td>\n",
       "      <td>Włochy</td>\n",
       "      <td>4.0</td>\n",
       "      <td>Europa</td>\n",
       "    </tr>\n",
       "    <tr>\n",
       "      <th>1002</th>\n",
       "      <td>Tim</td>\n",
       "      <td>41</td>\n",
       "      <td>USA</td>\n",
       "      <td>2.0</td>\n",
       "      <td>Ameryka</td>\n",
       "    </tr>\n",
       "    <tr>\n",
       "      <th>1003</th>\n",
       "      <td>Jenny</td>\n",
       "      <td>12</td>\n",
       "      <td>Niemcy</td>\n",
       "      <td>5.0</td>\n",
       "      <td>Europa</td>\n",
       "    </tr>\n",
       "  </tbody>\n",
       "</table>\n",
       "</div>"
      ],
      "text/plain": [
       "        imię  wiek    kraj  ocena kontynent\n",
       "numer                                      \n",
       "1000    JOHN    33     USA    3.0   Ameryka\n",
       "1001    Mark    55  Włochy    4.0    Europa\n",
       "1002     Tim    41     USA    2.0   Ameryka\n",
       "1003   Jenny    12  Niemcy    5.0    Europa"
      ]
     },
     "execution_count": 503,
     "metadata": {},
     "output_type": "execute_result"
    }
   ],
   "source": [
    "df2.loc[[1000,1001],\"ocena\"]=[3,4]\n",
    "df2"
   ]
  },
  {
   "attachments": {},
   "cell_type": "markdown",
   "metadata": {},
   "source": [
    "# Ustawianie danych/przypisywanie wartości przy użyciu indeksowania logicznego"
   ]
  },
  {
   "cell_type": "code",
   "execution_count": 504,
   "metadata": {},
   "outputs": [
    {
     "data": {
      "text/html": [
       "<div>\n",
       "<style scoped>\n",
       "    .dataframe tbody tr th:only-of-type {\n",
       "        vertical-align: middle;\n",
       "    }\n",
       "\n",
       "    .dataframe tbody tr th {\n",
       "        vertical-align: top;\n",
       "    }\n",
       "\n",
       "    .dataframe thead th {\n",
       "        text-align: right;\n",
       "    }\n",
       "</style>\n",
       "<table border=\"1\" class=\"dataframe\">\n",
       "  <thead>\n",
       "    <tr style=\"text-align: right;\">\n",
       "      <th></th>\n",
       "      <th>imię</th>\n",
       "      <th>wiek</th>\n",
       "      <th>kraj</th>\n",
       "      <th>ocena</th>\n",
       "      <th>kontynent</th>\n",
       "    </tr>\n",
       "    <tr>\n",
       "      <th>numer</th>\n",
       "      <th></th>\n",
       "      <th></th>\n",
       "      <th></th>\n",
       "      <th></th>\n",
       "      <th></th>\n",
       "    </tr>\n",
       "  </thead>\n",
       "  <tbody>\n",
       "    <tr>\n",
       "      <th>1000</th>\n",
       "      <td>JOHN</td>\n",
       "      <td>33</td>\n",
       "      <td>USA</td>\n",
       "      <td>3.0</td>\n",
       "      <td>Ameryka</td>\n",
       "    </tr>\n",
       "    <tr>\n",
       "      <th>1001</th>\n",
       "      <td>Mark</td>\n",
       "      <td>55</td>\n",
       "      <td>Włochy</td>\n",
       "      <td>4.0</td>\n",
       "      <td>Europa</td>\n",
       "    </tr>\n",
       "    <tr>\n",
       "      <th>1002</th>\n",
       "      <td>Tim</td>\n",
       "      <td>41</td>\n",
       "      <td>USA</td>\n",
       "      <td>2.0</td>\n",
       "      <td>Ameryka</td>\n",
       "    </tr>\n",
       "    <tr>\n",
       "      <th>1003</th>\n",
       "      <td>Jenny</td>\n",
       "      <td>12</td>\n",
       "      <td>Niemcy</td>\n",
       "      <td>5.0</td>\n",
       "      <td>Europa</td>\n",
       "    </tr>\n",
       "  </tbody>\n",
       "</table>\n",
       "</div>"
      ],
      "text/plain": [
       "        imię  wiek    kraj  ocena kontynent\n",
       "numer                                      \n",
       "1000    JOHN    33     USA    3.0   Ameryka\n",
       "1001    Mark    55  Włochy    4.0    Europa\n",
       "1002     Tim    41     USA    2.0   Ameryka\n",
       "1003   Jenny    12  Niemcy    5.0    Europa"
      ]
     },
     "execution_count": 504,
     "metadata": {},
     "output_type": "execute_result"
    }
   ],
   "source": [
    "df2"
   ]
  },
  {
   "cell_type": "code",
   "execution_count": 505,
   "metadata": {},
   "outputs": [],
   "source": [
    "df2.loc[(df2[\"wiek\"] < 19) & (df2[\"kraj\"]==\"Niemcy\")] = \"***\""
   ]
  },
  {
   "cell_type": "code",
   "execution_count": 506,
   "metadata": {},
   "outputs": [
    {
     "data": {
      "text/html": [
       "<div>\n",
       "<style scoped>\n",
       "    .dataframe tbody tr th:only-of-type {\n",
       "        vertical-align: middle;\n",
       "    }\n",
       "\n",
       "    .dataframe tbody tr th {\n",
       "        vertical-align: top;\n",
       "    }\n",
       "\n",
       "    .dataframe thead th {\n",
       "        text-align: right;\n",
       "    }\n",
       "</style>\n",
       "<table border=\"1\" class=\"dataframe\">\n",
       "  <thead>\n",
       "    <tr style=\"text-align: right;\">\n",
       "      <th></th>\n",
       "      <th>imię</th>\n",
       "      <th>wiek</th>\n",
       "      <th>kraj</th>\n",
       "      <th>ocena</th>\n",
       "      <th>kontynent</th>\n",
       "    </tr>\n",
       "    <tr>\n",
       "      <th>numer</th>\n",
       "      <th></th>\n",
       "      <th></th>\n",
       "      <th></th>\n",
       "      <th></th>\n",
       "      <th></th>\n",
       "    </tr>\n",
       "  </thead>\n",
       "  <tbody>\n",
       "    <tr>\n",
       "      <th>1000</th>\n",
       "      <td>JOHN</td>\n",
       "      <td>33</td>\n",
       "      <td>USA</td>\n",
       "      <td>3.0</td>\n",
       "      <td>Ameryka</td>\n",
       "    </tr>\n",
       "    <tr>\n",
       "      <th>1001</th>\n",
       "      <td>Mark</td>\n",
       "      <td>55</td>\n",
       "      <td>Włochy</td>\n",
       "      <td>4.0</td>\n",
       "      <td>Europa</td>\n",
       "    </tr>\n",
       "    <tr>\n",
       "      <th>1002</th>\n",
       "      <td>Tim</td>\n",
       "      <td>41</td>\n",
       "      <td>USA</td>\n",
       "      <td>2.0</td>\n",
       "      <td>Ameryka</td>\n",
       "    </tr>\n",
       "    <tr>\n",
       "      <th>1003</th>\n",
       "      <td>***</td>\n",
       "      <td>***</td>\n",
       "      <td>***</td>\n",
       "      <td>***</td>\n",
       "      <td>***</td>\n",
       "    </tr>\n",
       "  </tbody>\n",
       "</table>\n",
       "</div>"
      ],
      "text/plain": [
       "       imię wiek    kraj ocena kontynent\n",
       "numer                                   \n",
       "1000   JOHN   33     USA   3.0   Ameryka\n",
       "1001   Mark   55  Włochy   4.0    Europa\n",
       "1002    Tim   41     USA   2.0   Ameryka\n",
       "1003    ***  ***     ***   ***       ***"
      ]
     },
     "execution_count": 506,
     "metadata": {},
     "output_type": "execute_result"
    }
   ],
   "source": [
    "df2"
   ]
  },
  {
   "attachments": {},
   "cell_type": "markdown",
   "metadata": {},
   "source": [
    "# Ustawianie danych poprzez zmianę wartości"
   ]
  },
  {
   "cell_type": "code",
   "execution_count": 507,
   "metadata": {},
   "outputs": [
    {
     "data": {
      "text/html": [
       "<div>\n",
       "<style scoped>\n",
       "    .dataframe tbody tr th:only-of-type {\n",
       "        vertical-align: middle;\n",
       "    }\n",
       "\n",
       "    .dataframe tbody tr th {\n",
       "        vertical-align: top;\n",
       "    }\n",
       "\n",
       "    .dataframe thead th {\n",
       "        text-align: right;\n",
       "    }\n",
       "</style>\n",
       "<table border=\"1\" class=\"dataframe\">\n",
       "  <thead>\n",
       "    <tr style=\"text-align: right;\">\n",
       "      <th></th>\n",
       "      <th>imię</th>\n",
       "      <th>wiek</th>\n",
       "      <th>kraj</th>\n",
       "      <th>ocena</th>\n",
       "      <th>kontynent</th>\n",
       "    </tr>\n",
       "    <tr>\n",
       "      <th>numer</th>\n",
       "      <th></th>\n",
       "      <th></th>\n",
       "      <th></th>\n",
       "      <th></th>\n",
       "      <th></th>\n",
       "    </tr>\n",
       "  </thead>\n",
       "  <tbody>\n",
       "    <tr>\n",
       "      <th>1000</th>\n",
       "      <td>JOHN</td>\n",
       "      <td>33</td>\n",
       "      <td>Stany Zjednoczone</td>\n",
       "      <td>3.0</td>\n",
       "      <td>Ameryka</td>\n",
       "    </tr>\n",
       "    <tr>\n",
       "      <th>1001</th>\n",
       "      <td>Mark</td>\n",
       "      <td>55</td>\n",
       "      <td>Włochy</td>\n",
       "      <td>4.0</td>\n",
       "      <td>Europa</td>\n",
       "    </tr>\n",
       "    <tr>\n",
       "      <th>1002</th>\n",
       "      <td>Tim</td>\n",
       "      <td>41</td>\n",
       "      <td>Stany Zjednoczone</td>\n",
       "      <td>2.0</td>\n",
       "      <td>Ameryka</td>\n",
       "    </tr>\n",
       "    <tr>\n",
       "      <th>1003</th>\n",
       "      <td>***</td>\n",
       "      <td>***</td>\n",
       "      <td>***</td>\n",
       "      <td>***</td>\n",
       "      <td>***</td>\n",
       "    </tr>\n",
       "  </tbody>\n",
       "</table>\n",
       "</div>"
      ],
      "text/plain": [
       "       imię wiek               kraj ocena kontynent\n",
       "numer                                              \n",
       "1000   JOHN   33  Stany Zjednoczone   3.0   Ameryka\n",
       "1001   Mark   55             Włochy   4.0    Europa\n",
       "1002    Tim   41  Stany Zjednoczone   2.0   Ameryka\n",
       "1003    ***  ***                ***   ***       ***"
      ]
     },
     "execution_count": 507,
     "metadata": {},
     "output_type": "execute_result"
    }
   ],
   "source": [
    "df2 = df2.replace(\"USA\", \"Stany Zjednoczone\")\n",
    "df2"
   ]
  },
  {
   "cell_type": "code",
   "execution_count": 508,
   "metadata": {},
   "outputs": [],
   "source": [
    "df2 = df2.replace({\"kontynent\": {\"Ameryka\" : \"Ameryka Północna\"}})"
   ]
  },
  {
   "cell_type": "code",
   "execution_count": 509,
   "metadata": {},
   "outputs": [
    {
     "data": {
      "text/html": [
       "<div>\n",
       "<style scoped>\n",
       "    .dataframe tbody tr th:only-of-type {\n",
       "        vertical-align: middle;\n",
       "    }\n",
       "\n",
       "    .dataframe tbody tr th {\n",
       "        vertical-align: top;\n",
       "    }\n",
       "\n",
       "    .dataframe thead th {\n",
       "        text-align: right;\n",
       "    }\n",
       "</style>\n",
       "<table border=\"1\" class=\"dataframe\">\n",
       "  <thead>\n",
       "    <tr style=\"text-align: right;\">\n",
       "      <th></th>\n",
       "      <th>imię</th>\n",
       "      <th>wiek</th>\n",
       "      <th>kraj</th>\n",
       "      <th>ocena</th>\n",
       "      <th>kontynent</th>\n",
       "    </tr>\n",
       "    <tr>\n",
       "      <th>numer</th>\n",
       "      <th></th>\n",
       "      <th></th>\n",
       "      <th></th>\n",
       "      <th></th>\n",
       "      <th></th>\n",
       "    </tr>\n",
       "  </thead>\n",
       "  <tbody>\n",
       "    <tr>\n",
       "      <th>1000</th>\n",
       "      <td>JOHN</td>\n",
       "      <td>33</td>\n",
       "      <td>Stany Zjednoczone</td>\n",
       "      <td>3.0</td>\n",
       "      <td>Ameryka Północna</td>\n",
       "    </tr>\n",
       "    <tr>\n",
       "      <th>1001</th>\n",
       "      <td>Mark</td>\n",
       "      <td>55</td>\n",
       "      <td>Włochy</td>\n",
       "      <td>4.0</td>\n",
       "      <td>Europa</td>\n",
       "    </tr>\n",
       "    <tr>\n",
       "      <th>1002</th>\n",
       "      <td>Tim</td>\n",
       "      <td>41</td>\n",
       "      <td>Stany Zjednoczone</td>\n",
       "      <td>2.0</td>\n",
       "      <td>Ameryka Północna</td>\n",
       "    </tr>\n",
       "    <tr>\n",
       "      <th>1003</th>\n",
       "      <td>***</td>\n",
       "      <td>***</td>\n",
       "      <td>***</td>\n",
       "      <td>***</td>\n",
       "      <td>***</td>\n",
       "    </tr>\n",
       "  </tbody>\n",
       "</table>\n",
       "</div>"
      ],
      "text/plain": [
       "       imię wiek               kraj ocena         kontynent\n",
       "numer                                                      \n",
       "1000   JOHN   33  Stany Zjednoczone   3.0  Ameryka Północna\n",
       "1001   Mark   55             Włochy   4.0            Europa\n",
       "1002    Tim   41  Stany Zjednoczone   2.0  Ameryka Północna\n",
       "1003    ***  ***                ***   ***               ***"
      ]
     },
     "execution_count": 509,
     "metadata": {},
     "output_type": "execute_result"
    }
   ],
   "source": [
    "df2"
   ]
  },
  {
   "cell_type": "code",
   "execution_count": 510,
   "metadata": {},
   "outputs": [
    {
     "data": {
      "text/html": [
       "<div>\n",
       "<style scoped>\n",
       "    .dataframe tbody tr th:only-of-type {\n",
       "        vertical-align: middle;\n",
       "    }\n",
       "\n",
       "    .dataframe tbody tr th {\n",
       "        vertical-align: top;\n",
       "    }\n",
       "\n",
       "    .dataframe thead th {\n",
       "        text-align: right;\n",
       "    }\n",
       "</style>\n",
       "<table border=\"1\" class=\"dataframe\">\n",
       "  <thead>\n",
       "    <tr style=\"text-align: right;\">\n",
       "      <th></th>\n",
       "      <th>imię</th>\n",
       "      <th>wiek</th>\n",
       "      <th>kraj</th>\n",
       "      <th>ocena</th>\n",
       "      <th>kontynent</th>\n",
       "    </tr>\n",
       "    <tr>\n",
       "      <th>numer</th>\n",
       "      <th></th>\n",
       "      <th></th>\n",
       "      <th></th>\n",
       "      <th></th>\n",
       "      <th></th>\n",
       "    </tr>\n",
       "  </thead>\n",
       "  <tbody>\n",
       "    <tr>\n",
       "      <th>1000</th>\n",
       "      <td>John</td>\n",
       "      <td>32</td>\n",
       "      <td>Stany Zjednoczone</td>\n",
       "      <td>3.0</td>\n",
       "      <td>Ameryka Północna</td>\n",
       "    </tr>\n",
       "    <tr>\n",
       "      <th>1001</th>\n",
       "      <td>Marek</td>\n",
       "      <td>55</td>\n",
       "      <td>Włochy</td>\n",
       "      <td>4.0</td>\n",
       "      <td>Europa</td>\n",
       "    </tr>\n",
       "    <tr>\n",
       "      <th>1002</th>\n",
       "      <td>Tim</td>\n",
       "      <td>41</td>\n",
       "      <td>Stany Zjednoczone</td>\n",
       "      <td>2.0</td>\n",
       "      <td>Ameryka Północna</td>\n",
       "    </tr>\n",
       "    <tr>\n",
       "      <th>1003</th>\n",
       "      <td>***</td>\n",
       "      <td>***</td>\n",
       "      <td>***</td>\n",
       "      <td>***</td>\n",
       "      <td>***</td>\n",
       "    </tr>\n",
       "  </tbody>\n",
       "</table>\n",
       "</div>"
      ],
      "text/plain": [
       "        imię wiek               kraj ocena         kontynent\n",
       "numer                                                       \n",
       "1000    John   32  Stany Zjednoczone   3.0  Ameryka Północna\n",
       "1001   Marek   55             Włochy   4.0            Europa\n",
       "1002     Tim   41  Stany Zjednoczone   2.0  Ameryka Północna\n",
       "1003     ***  ***                ***   ***               ***"
      ]
     },
     "execution_count": 510,
     "metadata": {},
     "output_type": "execute_result"
    }
   ],
   "source": [
    "df2.replace([\"JOHN\", \"Mark\", 33], [\"John\", \"Marek\", 32])"
   ]
  },
  {
   "attachments": {},
   "cell_type": "markdown",
   "metadata": {},
   "source": [
    "# Ustawianie danych poprzez dodanie nowej kolumny"
   ]
  },
  {
   "cell_type": "code",
   "execution_count": 511,
   "metadata": {},
   "outputs": [
    {
     "data": {
      "text/html": [
       "<div>\n",
       "<style scoped>\n",
       "    .dataframe tbody tr th:only-of-type {\n",
       "        vertical-align: middle;\n",
       "    }\n",
       "\n",
       "    .dataframe tbody tr th {\n",
       "        vertical-align: top;\n",
       "    }\n",
       "\n",
       "    .dataframe thead th {\n",
       "        text-align: right;\n",
       "    }\n",
       "</style>\n",
       "<table border=\"1\" class=\"dataframe\">\n",
       "  <thead>\n",
       "    <tr style=\"text-align: right;\">\n",
       "      <th></th>\n",
       "      <th>imię</th>\n",
       "      <th>wiek</th>\n",
       "      <th>kraj</th>\n",
       "      <th>ocena</th>\n",
       "      <th>kontynent</th>\n",
       "    </tr>\n",
       "    <tr>\n",
       "      <th>numer</th>\n",
       "      <th></th>\n",
       "      <th></th>\n",
       "      <th></th>\n",
       "      <th></th>\n",
       "      <th></th>\n",
       "    </tr>\n",
       "  </thead>\n",
       "  <tbody>\n",
       "    <tr>\n",
       "      <th>1000</th>\n",
       "      <td>JOHN</td>\n",
       "      <td>33</td>\n",
       "      <td>Stany Zjednoczone</td>\n",
       "      <td>3.0</td>\n",
       "      <td>Ameryka Północna</td>\n",
       "    </tr>\n",
       "    <tr>\n",
       "      <th>1001</th>\n",
       "      <td>Mark</td>\n",
       "      <td>55</td>\n",
       "      <td>Włochy</td>\n",
       "      <td>4.0</td>\n",
       "      <td>Europa</td>\n",
       "    </tr>\n",
       "    <tr>\n",
       "      <th>1002</th>\n",
       "      <td>Tim</td>\n",
       "      <td>41</td>\n",
       "      <td>Stany Zjednoczone</td>\n",
       "      <td>2.0</td>\n",
       "      <td>Ameryka Północna</td>\n",
       "    </tr>\n",
       "    <tr>\n",
       "      <th>1003</th>\n",
       "      <td>***</td>\n",
       "      <td>***</td>\n",
       "      <td>***</td>\n",
       "      <td>***</td>\n",
       "      <td>***</td>\n",
       "    </tr>\n",
       "  </tbody>\n",
       "</table>\n",
       "</div>"
      ],
      "text/plain": [
       "       imię wiek               kraj ocena         kontynent\n",
       "numer                                                      \n",
       "1000   JOHN   33  Stany Zjednoczone   3.0  Ameryka Północna\n",
       "1001   Mark   55             Włochy   4.0            Europa\n",
       "1002    Tim   41  Stany Zjednoczone   2.0  Ameryka Północna\n",
       "1003    ***  ***                ***   ***               ***"
      ]
     },
     "execution_count": 511,
     "metadata": {},
     "output_type": "execute_result"
    }
   ],
   "source": [
    "df2"
   ]
  },
  {
   "cell_type": "code",
   "execution_count": 512,
   "metadata": {},
   "outputs": [
    {
     "data": {
      "text/html": [
       "<div>\n",
       "<style scoped>\n",
       "    .dataframe tbody tr th:only-of-type {\n",
       "        vertical-align: middle;\n",
       "    }\n",
       "\n",
       "    .dataframe tbody tr th {\n",
       "        vertical-align: top;\n",
       "    }\n",
       "\n",
       "    .dataframe thead th {\n",
       "        text-align: right;\n",
       "    }\n",
       "</style>\n",
       "<table border=\"1\" class=\"dataframe\">\n",
       "  <thead>\n",
       "    <tr style=\"text-align: right;\">\n",
       "      <th></th>\n",
       "      <th>imię</th>\n",
       "      <th>wiek</th>\n",
       "      <th>kraj</th>\n",
       "      <th>ocena</th>\n",
       "      <th>kontynent</th>\n",
       "      <th>rabat</th>\n",
       "    </tr>\n",
       "    <tr>\n",
       "      <th>numer</th>\n",
       "      <th></th>\n",
       "      <th></th>\n",
       "      <th></th>\n",
       "      <th></th>\n",
       "      <th></th>\n",
       "      <th></th>\n",
       "    </tr>\n",
       "  </thead>\n",
       "  <tbody>\n",
       "    <tr>\n",
       "      <th>1000</th>\n",
       "      <td>JOHN</td>\n",
       "      <td>33</td>\n",
       "      <td>Stany Zjednoczone</td>\n",
       "      <td>3.0</td>\n",
       "      <td>Ameryka Północna</td>\n",
       "      <td>0</td>\n",
       "    </tr>\n",
       "    <tr>\n",
       "      <th>1001</th>\n",
       "      <td>Mark</td>\n",
       "      <td>55</td>\n",
       "      <td>Włochy</td>\n",
       "      <td>4.0</td>\n",
       "      <td>Europa</td>\n",
       "      <td>0</td>\n",
       "    </tr>\n",
       "    <tr>\n",
       "      <th>1002</th>\n",
       "      <td>Tim</td>\n",
       "      <td>41</td>\n",
       "      <td>Stany Zjednoczone</td>\n",
       "      <td>2.0</td>\n",
       "      <td>Ameryka Północna</td>\n",
       "      <td>0</td>\n",
       "    </tr>\n",
       "    <tr>\n",
       "      <th>1003</th>\n",
       "      <td>***</td>\n",
       "      <td>***</td>\n",
       "      <td>***</td>\n",
       "      <td>***</td>\n",
       "      <td>***</td>\n",
       "      <td>0</td>\n",
       "    </tr>\n",
       "  </tbody>\n",
       "</table>\n",
       "</div>"
      ],
      "text/plain": [
       "       imię wiek               kraj ocena         kontynent  rabat\n",
       "numer                                                             \n",
       "1000   JOHN   33  Stany Zjednoczone   3.0  Ameryka Północna      0\n",
       "1001   Mark   55             Włochy   4.0            Europa      0\n",
       "1002    Tim   41  Stany Zjednoczone   2.0  Ameryka Północna      0\n",
       "1003    ***  ***                ***   ***               ***      0"
      ]
     },
     "execution_count": 512,
     "metadata": {},
     "output_type": "execute_result"
    }
   ],
   "source": [
    "df2[\"rabat\"] = 0\n",
    "df2"
   ]
  },
  {
   "cell_type": "code",
   "execution_count": 513,
   "metadata": {},
   "outputs": [
    {
     "data": {
      "text/html": [
       "<div>\n",
       "<style scoped>\n",
       "    .dataframe tbody tr th:only-of-type {\n",
       "        vertical-align: middle;\n",
       "    }\n",
       "\n",
       "    .dataframe tbody tr th {\n",
       "        vertical-align: top;\n",
       "    }\n",
       "\n",
       "    .dataframe thead th {\n",
       "        text-align: right;\n",
       "    }\n",
       "</style>\n",
       "<table border=\"1\" class=\"dataframe\">\n",
       "  <thead>\n",
       "    <tr style=\"text-align: right;\">\n",
       "      <th></th>\n",
       "      <th>imię</th>\n",
       "      <th>wiek</th>\n",
       "      <th>kraj</th>\n",
       "      <th>ocena</th>\n",
       "      <th>kontynent</th>\n",
       "      <th>rabat</th>\n",
       "    </tr>\n",
       "    <tr>\n",
       "      <th>numer</th>\n",
       "      <th></th>\n",
       "      <th></th>\n",
       "      <th></th>\n",
       "      <th></th>\n",
       "      <th></th>\n",
       "      <th></th>\n",
       "    </tr>\n",
       "  </thead>\n",
       "  <tbody>\n",
       "    <tr>\n",
       "      <th>1000</th>\n",
       "      <td>JOHN</td>\n",
       "      <td>33</td>\n",
       "      <td>Stany Zjednoczone</td>\n",
       "      <td>3.0</td>\n",
       "      <td>Ameryka Północna</td>\n",
       "      <td>0</td>\n",
       "    </tr>\n",
       "    <tr>\n",
       "      <th>1001</th>\n",
       "      <td>Mark</td>\n",
       "      <td>55</td>\n",
       "      <td>Włochy</td>\n",
       "      <td>4.0</td>\n",
       "      <td>Europa</td>\n",
       "      <td>10</td>\n",
       "    </tr>\n",
       "    <tr>\n",
       "      <th>1002</th>\n",
       "      <td>Tim</td>\n",
       "      <td>41</td>\n",
       "      <td>Stany Zjednoczone</td>\n",
       "      <td>2.0</td>\n",
       "      <td>Ameryka Północna</td>\n",
       "      <td>20</td>\n",
       "    </tr>\n",
       "    <tr>\n",
       "      <th>1003</th>\n",
       "      <td>***</td>\n",
       "      <td>***</td>\n",
       "      <td>***</td>\n",
       "      <td>***</td>\n",
       "      <td>***</td>\n",
       "      <td>30</td>\n",
       "    </tr>\n",
       "  </tbody>\n",
       "</table>\n",
       "</div>"
      ],
      "text/plain": [
       "       imię wiek               kraj ocena         kontynent  rabat\n",
       "numer                                                             \n",
       "1000   JOHN   33  Stany Zjednoczone   3.0  Ameryka Północna      0\n",
       "1001   Mark   55             Włochy   4.0            Europa     10\n",
       "1002    Tim   41  Stany Zjednoczone   2.0  Ameryka Północna     20\n",
       "1003    ***  ***                ***   ***               ***     30"
      ]
     },
     "execution_count": 513,
     "metadata": {},
     "output_type": "execute_result"
    }
   ],
   "source": [
    "df2[\"rabat\"] = [0,10,20,30]\n",
    "df2"
   ]
  },
  {
   "cell_type": "code",
   "execution_count": 514,
   "metadata": {},
   "outputs": [
    {
     "data": {
      "text/html": [
       "<div>\n",
       "<style scoped>\n",
       "    .dataframe tbody tr th:only-of-type {\n",
       "        vertical-align: middle;\n",
       "    }\n",
       "\n",
       "    .dataframe tbody tr th {\n",
       "        vertical-align: top;\n",
       "    }\n",
       "\n",
       "    .dataframe thead th {\n",
       "        text-align: right;\n",
       "    }\n",
       "</style>\n",
       "<table border=\"1\" class=\"dataframe\">\n",
       "  <thead>\n",
       "    <tr style=\"text-align: right;\">\n",
       "      <th></th>\n",
       "      <th>imię</th>\n",
       "      <th>wiek</th>\n",
       "      <th>kraj</th>\n",
       "      <th>ocena</th>\n",
       "      <th>kontynent</th>\n",
       "    </tr>\n",
       "    <tr>\n",
       "      <th>numer</th>\n",
       "      <th></th>\n",
       "      <th></th>\n",
       "      <th></th>\n",
       "      <th></th>\n",
       "      <th></th>\n",
       "    </tr>\n",
       "  </thead>\n",
       "  <tbody>\n",
       "    <tr>\n",
       "      <th>1000</th>\n",
       "      <td>John</td>\n",
       "      <td>33</td>\n",
       "      <td>USA</td>\n",
       "      <td>3.5</td>\n",
       "      <td>Ameryka</td>\n",
       "    </tr>\n",
       "    <tr>\n",
       "      <th>1001</th>\n",
       "      <td>Mark</td>\n",
       "      <td>55</td>\n",
       "      <td>Włochy</td>\n",
       "      <td>4.5</td>\n",
       "      <td>Europa</td>\n",
       "    </tr>\n",
       "    <tr>\n",
       "      <th>1002</th>\n",
       "      <td>Tim</td>\n",
       "      <td>41</td>\n",
       "      <td>USA</td>\n",
       "      <td>2.0</td>\n",
       "      <td>Ameryka</td>\n",
       "    </tr>\n",
       "    <tr>\n",
       "      <th>1003</th>\n",
       "      <td>Jenny</td>\n",
       "      <td>12</td>\n",
       "      <td>Niemcy</td>\n",
       "      <td>5.0</td>\n",
       "      <td>Europa</td>\n",
       "    </tr>\n",
       "  </tbody>\n",
       "</table>\n",
       "</div>"
      ],
      "text/plain": [
       "        imię  wiek    kraj  ocena kontynent\n",
       "numer                                      \n",
       "1000    John    33     USA    3.5   Ameryka\n",
       "1001    Mark    55  Włochy    4.5    Europa\n",
       "1002     Tim    41     USA    2.0   Ameryka\n",
       "1003   Jenny    12  Niemcy    5.0    Europa"
      ]
     },
     "execution_count": 514,
     "metadata": {},
     "output_type": "execute_result"
    }
   ],
   "source": [
    "df2 = df.copy()\n",
    "df2"
   ]
  },
  {
   "cell_type": "code",
   "execution_count": 515,
   "metadata": {},
   "outputs": [
    {
     "data": {
      "text/html": [
       "<div>\n",
       "<style scoped>\n",
       "    .dataframe tbody tr th:only-of-type {\n",
       "        vertical-align: middle;\n",
       "    }\n",
       "\n",
       "    .dataframe tbody tr th {\n",
       "        vertical-align: top;\n",
       "    }\n",
       "\n",
       "    .dataframe thead th {\n",
       "        text-align: right;\n",
       "    }\n",
       "</style>\n",
       "<table border=\"1\" class=\"dataframe\">\n",
       "  <thead>\n",
       "    <tr style=\"text-align: right;\">\n",
       "      <th></th>\n",
       "      <th>imię</th>\n",
       "      <th>wiek</th>\n",
       "      <th>kraj</th>\n",
       "      <th>ocena</th>\n",
       "      <th>kontynent</th>\n",
       "      <th>rok urodzenia</th>\n",
       "    </tr>\n",
       "    <tr>\n",
       "      <th>numer</th>\n",
       "      <th></th>\n",
       "      <th></th>\n",
       "      <th></th>\n",
       "      <th></th>\n",
       "      <th></th>\n",
       "      <th></th>\n",
       "    </tr>\n",
       "  </thead>\n",
       "  <tbody>\n",
       "    <tr>\n",
       "      <th>1000</th>\n",
       "      <td>John</td>\n",
       "      <td>33</td>\n",
       "      <td>USA</td>\n",
       "      <td>3.5</td>\n",
       "      <td>Ameryka</td>\n",
       "      <td>1990</td>\n",
       "    </tr>\n",
       "    <tr>\n",
       "      <th>1001</th>\n",
       "      <td>Mark</td>\n",
       "      <td>55</td>\n",
       "      <td>Włochy</td>\n",
       "      <td>4.5</td>\n",
       "      <td>Europa</td>\n",
       "      <td>1968</td>\n",
       "    </tr>\n",
       "    <tr>\n",
       "      <th>1002</th>\n",
       "      <td>Tim</td>\n",
       "      <td>41</td>\n",
       "      <td>USA</td>\n",
       "      <td>2.0</td>\n",
       "      <td>Ameryka</td>\n",
       "      <td>1982</td>\n",
       "    </tr>\n",
       "    <tr>\n",
       "      <th>1003</th>\n",
       "      <td>Jenny</td>\n",
       "      <td>12</td>\n",
       "      <td>Niemcy</td>\n",
       "      <td>5.0</td>\n",
       "      <td>Europa</td>\n",
       "      <td>2011</td>\n",
       "    </tr>\n",
       "  </tbody>\n",
       "</table>\n",
       "</div>"
      ],
      "text/plain": [
       "        imię  wiek    kraj  ocena kontynent  rok urodzenia\n",
       "numer                                                     \n",
       "1000    John    33     USA    3.5   Ameryka           1990\n",
       "1001    Mark    55  Włochy    4.5    Europa           1968\n",
       "1002     Tim    41     USA    2.0   Ameryka           1982\n",
       "1003   Jenny    12  Niemcy    5.0    Europa           2011"
      ]
     },
     "execution_count": 515,
     "metadata": {},
     "output_type": "execute_result"
    }
   ],
   "source": [
    "df2[\"rok urodzenia\"] = 2023 - df2[\"wiek\"]\n",
    "df2"
   ]
  },
  {
   "attachments": {},
   "cell_type": "markdown",
   "metadata": {},
   "source": [
    "# Brakujące dane"
   ]
  },
  {
   "cell_type": "code",
   "execution_count": 517,
   "metadata": {},
   "outputs": [
    {
     "data": {
      "text/html": [
       "<div>\n",
       "<style scoped>\n",
       "    .dataframe tbody tr th:only-of-type {\n",
       "        vertical-align: middle;\n",
       "    }\n",
       "\n",
       "    .dataframe tbody tr th {\n",
       "        vertical-align: top;\n",
       "    }\n",
       "\n",
       "    .dataframe thead th {\n",
       "        text-align: right;\n",
       "    }\n",
       "</style>\n",
       "<table border=\"1\" class=\"dataframe\">\n",
       "  <thead>\n",
       "    <tr style=\"text-align: right;\">\n",
       "      <th></th>\n",
       "      <th>numer</th>\n",
       "      <th>imię</th>\n",
       "      <th>wiek</th>\n",
       "      <th>kraj</th>\n",
       "      <th>ocena</th>\n",
       "      <th>kontynent</th>\n",
       "    </tr>\n",
       "  </thead>\n",
       "  <tbody>\n",
       "    <tr>\n",
       "      <th>0</th>\n",
       "      <td>1001</td>\n",
       "      <td>Mark</td>\n",
       "      <td>55.0</td>\n",
       "      <td>Włochy</td>\n",
       "      <td>4.5</td>\n",
       "      <td>Europa</td>\n",
       "    </tr>\n",
       "    <tr>\n",
       "      <th>1</th>\n",
       "      <td>1000</td>\n",
       "      <td>John</td>\n",
       "      <td>33.0</td>\n",
       "      <td>USA</td>\n",
       "      <td>NaN</td>\n",
       "      <td>Ameryka</td>\n",
       "    </tr>\n",
       "    <tr>\n",
       "      <th>2</th>\n",
       "      <td>1002</td>\n",
       "      <td>Tim</td>\n",
       "      <td>41.0</td>\n",
       "      <td>USA</td>\n",
       "      <td>2.0</td>\n",
       "      <td>Ameryka</td>\n",
       "    </tr>\n",
       "    <tr>\n",
       "      <th>3</th>\n",
       "      <td>1003</td>\n",
       "      <td>NaN</td>\n",
       "      <td>NaN</td>\n",
       "      <td>NaN</td>\n",
       "      <td>NaN</td>\n",
       "      <td>NaN</td>\n",
       "    </tr>\n",
       "  </tbody>\n",
       "</table>\n",
       "</div>"
      ],
      "text/plain": [
       "   numer  imię  wiek    kraj  ocena kontynent\n",
       "0   1001  Mark  55.0  Włochy    4.5    Europa\n",
       "1   1000  John  33.0     USA    NaN   Ameryka\n",
       "2   1002   Tim  41.0     USA    2.0   Ameryka\n",
       "3   1003   NaN   NaN     NaN    NaN       NaN"
      ]
     },
     "execution_count": 517,
     "metadata": {},
     "output_type": "execute_result"
    }
   ],
   "source": [
    "df3 = pd.read_csv(\"uczestnicy_kursu_nan.csv\", sep=\";\")\n",
    "df3"
   ]
  },
  {
   "cell_type": "code",
   "execution_count": null,
   "metadata": {},
   "outputs": [
    {
     "name": "stdout",
     "output_type": "stream",
     "text": [
      "<class 'pandas.core.frame.DataFrame'>\n",
      "RangeIndex: 4 entries, 0 to 3\n",
      "Data columns (total 7 columns):\n",
      " #   Column     Non-Null Count  Dtype  \n",
      "---  ------     --------------  -----  \n",
      " 0   numer      3 non-null      float64\n",
      " 1   imię       3 non-null      object \n",
      " 2   wiek       3 non-null      float64\n",
      " 3   kraj       2 non-null      object \n",
      " 4   ocena      2 non-null      float64\n",
      " 5   kontynent  3 non-null      object \n",
      " 6   rabat      1 non-null      float64\n",
      "dtypes: float64(4), object(3)\n",
      "memory usage: 352.0+ bytes\n"
     ]
    }
   ],
   "source": [
    "df3.info()"
   ]
  },
  {
   "cell_type": "code",
   "execution_count": null,
   "metadata": {},
   "outputs": [
    {
     "data": {
      "text/html": [
       "<div>\n",
       "<style scoped>\n",
       "    .dataframe tbody tr th:only-of-type {\n",
       "        vertical-align: middle;\n",
       "    }\n",
       "\n",
       "    .dataframe tbody tr th {\n",
       "        vertical-align: top;\n",
       "    }\n",
       "\n",
       "    .dataframe thead th {\n",
       "        text-align: right;\n",
       "    }\n",
       "</style>\n",
       "<table border=\"1\" class=\"dataframe\">\n",
       "  <thead>\n",
       "    <tr style=\"text-align: right;\">\n",
       "      <th></th>\n",
       "      <th>numer</th>\n",
       "      <th>imię</th>\n",
       "      <th>wiek</th>\n",
       "      <th>kraj</th>\n",
       "      <th>ocena</th>\n",
       "      <th>kontynent</th>\n",
       "      <th>rabat</th>\n",
       "    </tr>\n",
       "  </thead>\n",
       "  <tbody>\n",
       "    <tr>\n",
       "      <th>0</th>\n",
       "      <td>False</td>\n",
       "      <td>False</td>\n",
       "      <td>False</td>\n",
       "      <td>False</td>\n",
       "      <td>False</td>\n",
       "      <td>False</td>\n",
       "      <td>False</td>\n",
       "    </tr>\n",
       "    <tr>\n",
       "      <th>1</th>\n",
       "      <td>False</td>\n",
       "      <td>False</td>\n",
       "      <td>False</td>\n",
       "      <td>False</td>\n",
       "      <td>True</td>\n",
       "      <td>False</td>\n",
       "      <td>True</td>\n",
       "    </tr>\n",
       "    <tr>\n",
       "      <th>2</th>\n",
       "      <td>False</td>\n",
       "      <td>False</td>\n",
       "      <td>False</td>\n",
       "      <td>True</td>\n",
       "      <td>False</td>\n",
       "      <td>False</td>\n",
       "      <td>True</td>\n",
       "    </tr>\n",
       "    <tr>\n",
       "      <th>3</th>\n",
       "      <td>True</td>\n",
       "      <td>True</td>\n",
       "      <td>True</td>\n",
       "      <td>True</td>\n",
       "      <td>True</td>\n",
       "      <td>True</td>\n",
       "      <td>True</td>\n",
       "    </tr>\n",
       "  </tbody>\n",
       "</table>\n",
       "</div>"
      ],
      "text/plain": [
       "   numer   imię   wiek   kraj  ocena  kontynent  rabat\n",
       "0  False  False  False  False  False      False  False\n",
       "1  False  False  False  False   True      False   True\n",
       "2  False  False  False   True  False      False   True\n",
       "3   True   True   True   True   True       True   True"
      ]
     },
     "execution_count": 113,
     "metadata": {},
     "output_type": "execute_result"
    }
   ],
   "source": [
    "df3.isna()"
   ]
  },
  {
   "cell_type": "code",
   "execution_count": null,
   "metadata": {},
   "outputs": [
    {
     "data": {
      "text/plain": [
       "numer        1\n",
       "imię         1\n",
       "wiek         1\n",
       "kraj         2\n",
       "ocena        2\n",
       "kontynent    1\n",
       "rabat        3\n",
       "dtype: int64"
      ]
     },
     "execution_count": 114,
     "metadata": {},
     "output_type": "execute_result"
    }
   ],
   "source": [
    "# Liczba wartości brakujących w każdej kolumnie\n",
    "df3.isna().sum()"
   ]
  },
  {
   "cell_type": "code",
   "execution_count": null,
   "metadata": {},
   "outputs": [
    {
     "data": {
      "text/plain": [
       "11"
      ]
     },
     "execution_count": 115,
     "metadata": {},
     "output_type": "execute_result"
    }
   ],
   "source": [
    "# Liczbę wartości brakujących w całym data frame\n",
    "df3.isna().sum().sum()"
   ]
  },
  {
   "cell_type": "code",
   "execution_count": null,
   "metadata": {},
   "outputs": [],
   "source": [
    "df3 = df3.drop(\"rabat\", axis=1)"
   ]
  },
  {
   "cell_type": "code",
   "execution_count": null,
   "metadata": {},
   "outputs": [
    {
     "data": {
      "text/plain": [
       "Index(['numer', 'imię', 'wiek', 'kraj', 'ocena', 'kontynent'], dtype='object')"
      ]
     },
     "execution_count": 117,
     "metadata": {},
     "output_type": "execute_result"
    }
   ],
   "source": [
    "df3.columns"
   ]
  },
  {
   "cell_type": "code",
   "execution_count": null,
   "metadata": {},
   "outputs": [
    {
     "data": {
      "text/html": [
       "<div>\n",
       "<style scoped>\n",
       "    .dataframe tbody tr th:only-of-type {\n",
       "        vertical-align: middle;\n",
       "    }\n",
       "\n",
       "    .dataframe tbody tr th {\n",
       "        vertical-align: top;\n",
       "    }\n",
       "\n",
       "    .dataframe thead th {\n",
       "        text-align: right;\n",
       "    }\n",
       "</style>\n",
       "<table border=\"1\" class=\"dataframe\">\n",
       "  <thead>\n",
       "    <tr style=\"text-align: right;\">\n",
       "      <th></th>\n",
       "      <th>numer</th>\n",
       "      <th>imię</th>\n",
       "      <th>wiek</th>\n",
       "      <th>kraj</th>\n",
       "      <th>ocena</th>\n",
       "      <th>kontynent</th>\n",
       "    </tr>\n",
       "  </thead>\n",
       "  <tbody>\n",
       "    <tr>\n",
       "      <th>0</th>\n",
       "      <td>1001.0</td>\n",
       "      <td>Mark</td>\n",
       "      <td>55.0</td>\n",
       "      <td>Włochy</td>\n",
       "      <td>4.5</td>\n",
       "      <td>Europa</td>\n",
       "    </tr>\n",
       "  </tbody>\n",
       "</table>\n",
       "</div>"
      ],
      "text/plain": [
       "    numer  imię  wiek    kraj  ocena kontynent\n",
       "0  1001.0  Mark  55.0  Włochy    4.5    Europa"
      ]
     },
     "execution_count": 118,
     "metadata": {},
     "output_type": "execute_result"
    }
   ],
   "source": [
    "df3.dropna() # usuwa wiersz gdzie coś brakuje"
   ]
  },
  {
   "cell_type": "code",
   "execution_count": null,
   "metadata": {},
   "outputs": [
    {
     "data": {
      "text/html": [
       "<div>\n",
       "<style scoped>\n",
       "    .dataframe tbody tr th:only-of-type {\n",
       "        vertical-align: middle;\n",
       "    }\n",
       "\n",
       "    .dataframe tbody tr th {\n",
       "        vertical-align: top;\n",
       "    }\n",
       "\n",
       "    .dataframe thead th {\n",
       "        text-align: right;\n",
       "    }\n",
       "</style>\n",
       "<table border=\"1\" class=\"dataframe\">\n",
       "  <thead>\n",
       "    <tr style=\"text-align: right;\">\n",
       "      <th></th>\n",
       "      <th>numer</th>\n",
       "      <th>imię</th>\n",
       "      <th>wiek</th>\n",
       "      <th>kraj</th>\n",
       "      <th>ocena</th>\n",
       "      <th>kontynent</th>\n",
       "    </tr>\n",
       "  </thead>\n",
       "  <tbody>\n",
       "    <tr>\n",
       "      <th>0</th>\n",
       "      <td>1001.0</td>\n",
       "      <td>Mark</td>\n",
       "      <td>55.0</td>\n",
       "      <td>Włochy</td>\n",
       "      <td>4.5</td>\n",
       "      <td>Europa</td>\n",
       "    </tr>\n",
       "    <tr>\n",
       "      <th>1</th>\n",
       "      <td>1000.0</td>\n",
       "      <td>John</td>\n",
       "      <td>33.0</td>\n",
       "      <td>USA</td>\n",
       "      <td>NaN</td>\n",
       "      <td>Ameryka</td>\n",
       "    </tr>\n",
       "    <tr>\n",
       "      <th>2</th>\n",
       "      <td>1002.0</td>\n",
       "      <td>Tim</td>\n",
       "      <td>41.0</td>\n",
       "      <td>NaN</td>\n",
       "      <td>2.0</td>\n",
       "      <td>Ameryka</td>\n",
       "    </tr>\n",
       "    <tr>\n",
       "      <th>3</th>\n",
       "      <td>NaN</td>\n",
       "      <td>NaN</td>\n",
       "      <td>NaN</td>\n",
       "      <td>NaN</td>\n",
       "      <td>NaN</td>\n",
       "      <td>NaN</td>\n",
       "    </tr>\n",
       "  </tbody>\n",
       "</table>\n",
       "</div>"
      ],
      "text/plain": [
       "    numer  imię  wiek    kraj  ocena kontynent\n",
       "0  1001.0  Mark  55.0  Włochy    4.5    Europa\n",
       "1  1000.0  John  33.0     USA    NaN   Ameryka\n",
       "2  1002.0   Tim  41.0     NaN    2.0   Ameryka\n",
       "3     NaN   NaN   NaN     NaN    NaN       NaN"
      ]
     },
     "execution_count": 119,
     "metadata": {},
     "output_type": "execute_result"
    }
   ],
   "source": [
    "df3"
   ]
  },
  {
   "cell_type": "code",
   "execution_count": null,
   "metadata": {},
   "outputs": [],
   "source": [
    "df3=df3.dropna(how=\"all\")"
   ]
  },
  {
   "cell_type": "code",
   "execution_count": null,
   "metadata": {},
   "outputs": [
    {
     "data": {
      "text/html": [
       "<div>\n",
       "<style scoped>\n",
       "    .dataframe tbody tr th:only-of-type {\n",
       "        vertical-align: middle;\n",
       "    }\n",
       "\n",
       "    .dataframe tbody tr th {\n",
       "        vertical-align: top;\n",
       "    }\n",
       "\n",
       "    .dataframe thead th {\n",
       "        text-align: right;\n",
       "    }\n",
       "</style>\n",
       "<table border=\"1\" class=\"dataframe\">\n",
       "  <thead>\n",
       "    <tr style=\"text-align: right;\">\n",
       "      <th></th>\n",
       "      <th>numer</th>\n",
       "      <th>imię</th>\n",
       "      <th>wiek</th>\n",
       "      <th>kraj</th>\n",
       "      <th>ocena</th>\n",
       "      <th>kontynent</th>\n",
       "    </tr>\n",
       "  </thead>\n",
       "  <tbody>\n",
       "    <tr>\n",
       "      <th>0</th>\n",
       "      <td>1001.0</td>\n",
       "      <td>Mark</td>\n",
       "      <td>55.0</td>\n",
       "      <td>Włochy</td>\n",
       "      <td>4.5</td>\n",
       "      <td>Europa</td>\n",
       "    </tr>\n",
       "    <tr>\n",
       "      <th>1</th>\n",
       "      <td>1000.0</td>\n",
       "      <td>John</td>\n",
       "      <td>33.0</td>\n",
       "      <td>USA</td>\n",
       "      <td>NaN</td>\n",
       "      <td>Ameryka</td>\n",
       "    </tr>\n",
       "    <tr>\n",
       "      <th>2</th>\n",
       "      <td>1002.0</td>\n",
       "      <td>Tim</td>\n",
       "      <td>41.0</td>\n",
       "      <td>NaN</td>\n",
       "      <td>2.0</td>\n",
       "      <td>Ameryka</td>\n",
       "    </tr>\n",
       "  </tbody>\n",
       "</table>\n",
       "</div>"
      ],
      "text/plain": [
       "    numer  imię  wiek    kraj  ocena kontynent\n",
       "0  1001.0  Mark  55.0  Włochy    4.5    Europa\n",
       "1  1000.0  John  33.0     USA    NaN   Ameryka\n",
       "2  1002.0   Tim  41.0     NaN    2.0   Ameryka"
      ]
     },
     "execution_count": 121,
     "metadata": {},
     "output_type": "execute_result"
    }
   ],
   "source": [
    "df3"
   ]
  },
  {
   "cell_type": "code",
   "execution_count": null,
   "metadata": {},
   "outputs": [
    {
     "data": {
      "text/html": [
       "<div>\n",
       "<style scoped>\n",
       "    .dataframe tbody tr th:only-of-type {\n",
       "        vertical-align: middle;\n",
       "    }\n",
       "\n",
       "    .dataframe tbody tr th {\n",
       "        vertical-align: top;\n",
       "    }\n",
       "\n",
       "    .dataframe thead th {\n",
       "        text-align: right;\n",
       "    }\n",
       "</style>\n",
       "<table border=\"1\" class=\"dataframe\">\n",
       "  <thead>\n",
       "    <tr style=\"text-align: right;\">\n",
       "      <th></th>\n",
       "      <th>numer</th>\n",
       "      <th>imię</th>\n",
       "      <th>wiek</th>\n",
       "      <th>kraj</th>\n",
       "      <th>ocena</th>\n",
       "      <th>kontynent</th>\n",
       "    </tr>\n",
       "  </thead>\n",
       "  <tbody>\n",
       "    <tr>\n",
       "      <th>0</th>\n",
       "      <td>1001.0</td>\n",
       "      <td>Mark</td>\n",
       "      <td>55.0</td>\n",
       "      <td>Włochy</td>\n",
       "      <td>4.50</td>\n",
       "      <td>Europa</td>\n",
       "    </tr>\n",
       "    <tr>\n",
       "      <th>1</th>\n",
       "      <td>1000.0</td>\n",
       "      <td>John</td>\n",
       "      <td>33.0</td>\n",
       "      <td>USA</td>\n",
       "      <td>3.25</td>\n",
       "      <td>Ameryka</td>\n",
       "    </tr>\n",
       "    <tr>\n",
       "      <th>2</th>\n",
       "      <td>1002.0</td>\n",
       "      <td>Tim</td>\n",
       "      <td>41.0</td>\n",
       "      <td>NaN</td>\n",
       "      <td>2.00</td>\n",
       "      <td>Ameryka</td>\n",
       "    </tr>\n",
       "  </tbody>\n",
       "</table>\n",
       "</div>"
      ],
      "text/plain": [
       "    numer  imię  wiek    kraj  ocena kontynent\n",
       "0  1001.0  Mark  55.0  Włochy   4.50    Europa\n",
       "1  1000.0  John  33.0     USA   3.25   Ameryka\n",
       "2  1002.0   Tim  41.0     NaN   2.00   Ameryka"
      ]
     },
     "execution_count": 122,
     "metadata": {},
     "output_type": "execute_result"
    }
   ],
   "source": [
    "df3 = df3.fillna({\"ocena\": df3[\"ocena\"].mean()}) # uzupelnij brakujace\n",
    "df3"
   ]
  },
  {
   "cell_type": "code",
   "execution_count": null,
   "metadata": {},
   "outputs": [
    {
     "data": {
      "text/html": [
       "<div>\n",
       "<style scoped>\n",
       "    .dataframe tbody tr th:only-of-type {\n",
       "        vertical-align: middle;\n",
       "    }\n",
       "\n",
       "    .dataframe tbody tr th {\n",
       "        vertical-align: top;\n",
       "    }\n",
       "\n",
       "    .dataframe thead th {\n",
       "        text-align: right;\n",
       "    }\n",
       "</style>\n",
       "<table border=\"1\" class=\"dataframe\">\n",
       "  <thead>\n",
       "    <tr style=\"text-align: right;\">\n",
       "      <th></th>\n",
       "      <th>numer</th>\n",
       "      <th>imię</th>\n",
       "      <th>wiek</th>\n",
       "      <th>kraj</th>\n",
       "      <th>ocena</th>\n",
       "      <th>kontynent</th>\n",
       "    </tr>\n",
       "  </thead>\n",
       "  <tbody>\n",
       "    <tr>\n",
       "      <th>0</th>\n",
       "      <td>1001.0</td>\n",
       "      <td>Mark</td>\n",
       "      <td>55.0</td>\n",
       "      <td>Włochy</td>\n",
       "      <td>4.50</td>\n",
       "      <td>Europa</td>\n",
       "    </tr>\n",
       "    <tr>\n",
       "      <th>1</th>\n",
       "      <td>1000.0</td>\n",
       "      <td>John</td>\n",
       "      <td>33.0</td>\n",
       "      <td>USA</td>\n",
       "      <td>3.25</td>\n",
       "      <td>Ameryka</td>\n",
       "    </tr>\n",
       "    <tr>\n",
       "      <th>2</th>\n",
       "      <td>1002.0</td>\n",
       "      <td>Tim</td>\n",
       "      <td>41.0</td>\n",
       "      <td>No information</td>\n",
       "      <td>2.00</td>\n",
       "      <td>Ameryka</td>\n",
       "    </tr>\n",
       "  </tbody>\n",
       "</table>\n",
       "</div>"
      ],
      "text/plain": [
       "    numer  imię  wiek            kraj  ocena kontynent\n",
       "0  1001.0  Mark  55.0          Włochy   4.50    Europa\n",
       "1  1000.0  John  33.0             USA   3.25   Ameryka\n",
       "2  1002.0   Tim  41.0  No information   2.00   Ameryka"
      ]
     },
     "execution_count": 123,
     "metadata": {},
     "output_type": "execute_result"
    }
   ],
   "source": [
    "df3 = df3.fillna({\"kraj\": \"No information\"})\n",
    "df3"
   ]
  },
  {
   "cell_type": "code",
   "execution_count": null,
   "metadata": {},
   "outputs": [
    {
     "data": {
      "text/html": [
       "<div>\n",
       "<style scoped>\n",
       "    .dataframe tbody tr th:only-of-type {\n",
       "        vertical-align: middle;\n",
       "    }\n",
       "\n",
       "    .dataframe tbody tr th {\n",
       "        vertical-align: top;\n",
       "    }\n",
       "\n",
       "    .dataframe thead th {\n",
       "        text-align: right;\n",
       "    }\n",
       "</style>\n",
       "<table border=\"1\" class=\"dataframe\">\n",
       "  <thead>\n",
       "    <tr style=\"text-align: right;\">\n",
       "      <th></th>\n",
       "      <th>numer</th>\n",
       "      <th>imię</th>\n",
       "      <th>wiek</th>\n",
       "      <th>kraj</th>\n",
       "      <th>ocena</th>\n",
       "      <th>kontynent</th>\n",
       "    </tr>\n",
       "  </thead>\n",
       "  <tbody>\n",
       "    <tr>\n",
       "      <th>0</th>\n",
       "      <td>1001.0</td>\n",
       "      <td>Mark</td>\n",
       "      <td>55.0</td>\n",
       "      <td>Włochy</td>\n",
       "      <td>4.50</td>\n",
       "      <td>Europa</td>\n",
       "    </tr>\n",
       "    <tr>\n",
       "      <th>1</th>\n",
       "      <td>1000.0</td>\n",
       "      <td>John</td>\n",
       "      <td>33.0</td>\n",
       "      <td>USA</td>\n",
       "      <td>3.25</td>\n",
       "      <td>Ameryka</td>\n",
       "    </tr>\n",
       "    <tr>\n",
       "      <th>2</th>\n",
       "      <td>1002.0</td>\n",
       "      <td>Tim</td>\n",
       "      <td>41.0</td>\n",
       "      <td>No information</td>\n",
       "      <td>2.00</td>\n",
       "      <td>Ameryka</td>\n",
       "    </tr>\n",
       "  </tbody>\n",
       "</table>\n",
       "</div>"
      ],
      "text/plain": [
       "    numer  imię  wiek            kraj  ocena kontynent\n",
       "0  1001.0  Mark  55.0          Włochy   4.50    Europa\n",
       "1  1000.0  John  33.0             USA   3.25   Ameryka\n",
       "2  1002.0   Tim  41.0  No information   2.00   Ameryka"
      ]
     },
     "execution_count": 124,
     "metadata": {},
     "output_type": "execute_result"
    }
   ],
   "source": [
    "df3"
   ]
  },
  {
   "attachments": {},
   "cell_type": "markdown",
   "metadata": {},
   "source": [
    "# Zduplikowane dane"
   ]
  },
  {
   "cell_type": "code",
   "execution_count": null,
   "metadata": {},
   "outputs": [
    {
     "data": {
      "text/html": [
       "<div>\n",
       "<style scoped>\n",
       "    .dataframe tbody tr th:only-of-type {\n",
       "        vertical-align: middle;\n",
       "    }\n",
       "\n",
       "    .dataframe tbody tr th {\n",
       "        vertical-align: top;\n",
       "    }\n",
       "\n",
       "    .dataframe thead th {\n",
       "        text-align: right;\n",
       "    }\n",
       "</style>\n",
       "<table border=\"1\" class=\"dataframe\">\n",
       "  <thead>\n",
       "    <tr style=\"text-align: right;\">\n",
       "      <th></th>\n",
       "      <th>imię</th>\n",
       "      <th>wiek</th>\n",
       "      <th>kraj</th>\n",
       "      <th>ocena</th>\n",
       "      <th>kontynent</th>\n",
       "    </tr>\n",
       "    <tr>\n",
       "      <th>numer</th>\n",
       "      <th></th>\n",
       "      <th></th>\n",
       "      <th></th>\n",
       "      <th></th>\n",
       "      <th></th>\n",
       "    </tr>\n",
       "  </thead>\n",
       "  <tbody>\n",
       "    <tr>\n",
       "      <th>1000</th>\n",
       "      <td>John</td>\n",
       "      <td>33</td>\n",
       "      <td>USA</td>\n",
       "      <td>3.5</td>\n",
       "      <td>Ameryka</td>\n",
       "    </tr>\n",
       "    <tr>\n",
       "      <th>1001</th>\n",
       "      <td>Mark</td>\n",
       "      <td>55</td>\n",
       "      <td>Włochy</td>\n",
       "      <td>4.5</td>\n",
       "      <td>Europa</td>\n",
       "    </tr>\n",
       "    <tr>\n",
       "      <th>1002</th>\n",
       "      <td>Tim</td>\n",
       "      <td>41</td>\n",
       "      <td>USA</td>\n",
       "      <td>2.0</td>\n",
       "      <td>Ameryka</td>\n",
       "    </tr>\n",
       "    <tr>\n",
       "      <th>1003</th>\n",
       "      <td>Jenny</td>\n",
       "      <td>12</td>\n",
       "      <td>Niemcy</td>\n",
       "      <td>5.0</td>\n",
       "      <td>Europa</td>\n",
       "    </tr>\n",
       "  </tbody>\n",
       "</table>\n",
       "</div>"
      ],
      "text/plain": [
       "        imię  wiek    kraj  ocena kontynent\n",
       "numer                                      \n",
       "1000    John    33     USA    3.5   Ameryka\n",
       "1001    Mark    55  Włochy    4.5    Europa\n",
       "1002     Tim    41     USA    2.0   Ameryka\n",
       "1003   Jenny    12  Niemcy    5.0    Europa"
      ]
     },
     "execution_count": 125,
     "metadata": {},
     "output_type": "execute_result"
    }
   ],
   "source": [
    "df"
   ]
  },
  {
   "cell_type": "code",
   "execution_count": null,
   "metadata": {},
   "outputs": [
    {
     "data": {
      "text/html": [
       "<div>\n",
       "<style scoped>\n",
       "    .dataframe tbody tr th:only-of-type {\n",
       "        vertical-align: middle;\n",
       "    }\n",
       "\n",
       "    .dataframe tbody tr th {\n",
       "        vertical-align: top;\n",
       "    }\n",
       "\n",
       "    .dataframe thead th {\n",
       "        text-align: right;\n",
       "    }\n",
       "</style>\n",
       "<table border=\"1\" class=\"dataframe\">\n",
       "  <thead>\n",
       "    <tr style=\"text-align: right;\">\n",
       "      <th></th>\n",
       "      <th>kraj</th>\n",
       "      <th>kontynent</th>\n",
       "    </tr>\n",
       "    <tr>\n",
       "      <th>numer</th>\n",
       "      <th></th>\n",
       "      <th></th>\n",
       "    </tr>\n",
       "  </thead>\n",
       "  <tbody>\n",
       "    <tr>\n",
       "      <th>1000</th>\n",
       "      <td>USA</td>\n",
       "      <td>Ameryka</td>\n",
       "    </tr>\n",
       "    <tr>\n",
       "      <th>1001</th>\n",
       "      <td>Włochy</td>\n",
       "      <td>Europa</td>\n",
       "    </tr>\n",
       "    <tr>\n",
       "      <th>1002</th>\n",
       "      <td>USA</td>\n",
       "      <td>Ameryka</td>\n",
       "    </tr>\n",
       "    <tr>\n",
       "      <th>1003</th>\n",
       "      <td>Niemcy</td>\n",
       "      <td>Europa</td>\n",
       "    </tr>\n",
       "  </tbody>\n",
       "</table>\n",
       "</div>"
      ],
      "text/plain": [
       "         kraj kontynent\n",
       "numer                  \n",
       "1000      USA   Ameryka\n",
       "1001   Włochy    Europa\n",
       "1002      USA   Ameryka\n",
       "1003   Niemcy    Europa"
      ]
     },
     "execution_count": 126,
     "metadata": {},
     "output_type": "execute_result"
    }
   ],
   "source": [
    "df[[\"kraj\", \"kontynent\"]]"
   ]
  },
  {
   "cell_type": "code",
   "execution_count": null,
   "metadata": {},
   "outputs": [
    {
     "data": {
      "text/html": [
       "<div>\n",
       "<style scoped>\n",
       "    .dataframe tbody tr th:only-of-type {\n",
       "        vertical-align: middle;\n",
       "    }\n",
       "\n",
       "    .dataframe tbody tr th {\n",
       "        vertical-align: top;\n",
       "    }\n",
       "\n",
       "    .dataframe thead th {\n",
       "        text-align: right;\n",
       "    }\n",
       "</style>\n",
       "<table border=\"1\" class=\"dataframe\">\n",
       "  <thead>\n",
       "    <tr style=\"text-align: right;\">\n",
       "      <th></th>\n",
       "      <th>imię</th>\n",
       "      <th>wiek</th>\n",
       "      <th>kraj</th>\n",
       "      <th>ocena</th>\n",
       "      <th>kontynent</th>\n",
       "    </tr>\n",
       "    <tr>\n",
       "      <th>numer</th>\n",
       "      <th></th>\n",
       "      <th></th>\n",
       "      <th></th>\n",
       "      <th></th>\n",
       "      <th></th>\n",
       "    </tr>\n",
       "  </thead>\n",
       "  <tbody>\n",
       "    <tr>\n",
       "      <th>1000</th>\n",
       "      <td>John</td>\n",
       "      <td>33</td>\n",
       "      <td>USA</td>\n",
       "      <td>3.5</td>\n",
       "      <td>Ameryka</td>\n",
       "    </tr>\n",
       "    <tr>\n",
       "      <th>1001</th>\n",
       "      <td>Mark</td>\n",
       "      <td>55</td>\n",
       "      <td>Włochy</td>\n",
       "      <td>4.5</td>\n",
       "      <td>Europa</td>\n",
       "    </tr>\n",
       "    <tr>\n",
       "      <th>1003</th>\n",
       "      <td>Jenny</td>\n",
       "      <td>12</td>\n",
       "      <td>Niemcy</td>\n",
       "      <td>5.0</td>\n",
       "      <td>Europa</td>\n",
       "    </tr>\n",
       "  </tbody>\n",
       "</table>\n",
       "</div>"
      ],
      "text/plain": [
       "        imię  wiek    kraj  ocena kontynent\n",
       "numer                                      \n",
       "1000    John    33     USA    3.5   Ameryka\n",
       "1001    Mark    55  Włochy    4.5    Europa\n",
       "1003   Jenny    12  Niemcy    5.0    Europa"
      ]
     },
     "execution_count": 127,
     "metadata": {},
     "output_type": "execute_result"
    }
   ],
   "source": [
    "df.drop_duplicates([\"kraj\", \"kontynent\"])"
   ]
  },
  {
   "cell_type": "code",
   "execution_count": null,
   "metadata": {},
   "outputs": [
    {
     "data": {
      "text/plain": [
       "False"
      ]
     },
     "execution_count": 128,
     "metadata": {},
     "output_type": "execute_result"
    }
   ],
   "source": [
    "df[\"kraj\"].is_unique"
   ]
  },
  {
   "cell_type": "code",
   "execution_count": null,
   "metadata": {},
   "outputs": [
    {
     "data": {
      "text/plain": [
       "True"
      ]
     },
     "execution_count": 129,
     "metadata": {},
     "output_type": "execute_result"
    }
   ],
   "source": [
    "df.index.is_unique"
   ]
  },
  {
   "cell_type": "code",
   "execution_count": null,
   "metadata": {},
   "outputs": [
    {
     "data": {
      "text/plain": [
       "array(['USA', 'Włochy', 'Niemcy'], dtype=object)"
      ]
     },
     "execution_count": 130,
     "metadata": {},
     "output_type": "execute_result"
    }
   ],
   "source": [
    "df[\"kraj\"].unique()"
   ]
  },
  {
   "cell_type": "code",
   "execution_count": null,
   "metadata": {},
   "outputs": [
    {
     "data": {
      "text/plain": [
       "USA       2\n",
       "Włochy    1\n",
       "Niemcy    1\n",
       "Name: kraj, dtype: int64"
      ]
     },
     "execution_count": 131,
     "metadata": {},
     "output_type": "execute_result"
    }
   ],
   "source": [
    "df[\"kraj\"].value_counts()"
   ]
  },
  {
   "attachments": {},
   "cell_type": "markdown",
   "metadata": {},
   "source": [
    "# Konkatenacja"
   ]
  },
  {
   "cell_type": "code",
   "execution_count": null,
   "metadata": {},
   "outputs": [
    {
     "data": {
      "text/html": [
       "<div>\n",
       "<style scoped>\n",
       "    .dataframe tbody tr th:only-of-type {\n",
       "        vertical-align: middle;\n",
       "    }\n",
       "\n",
       "    .dataframe tbody tr th {\n",
       "        vertical-align: top;\n",
       "    }\n",
       "\n",
       "    .dataframe thead th {\n",
       "        text-align: right;\n",
       "    }\n",
       "</style>\n",
       "<table border=\"1\" class=\"dataframe\">\n",
       "  <thead>\n",
       "    <tr style=\"text-align: right;\">\n",
       "      <th></th>\n",
       "      <th>imię</th>\n",
       "      <th>wiek</th>\n",
       "      <th>kraj</th>\n",
       "      <th>ocena</th>\n",
       "      <th>kontynent</th>\n",
       "    </tr>\n",
       "    <tr>\n",
       "      <th>numer</th>\n",
       "      <th></th>\n",
       "      <th></th>\n",
       "      <th></th>\n",
       "      <th></th>\n",
       "      <th></th>\n",
       "    </tr>\n",
       "  </thead>\n",
       "  <tbody>\n",
       "    <tr>\n",
       "      <th>1000</th>\n",
       "      <td>John</td>\n",
       "      <td>33</td>\n",
       "      <td>USA</td>\n",
       "      <td>3.5</td>\n",
       "      <td>Ameryka</td>\n",
       "    </tr>\n",
       "    <tr>\n",
       "      <th>1001</th>\n",
       "      <td>Mark</td>\n",
       "      <td>55</td>\n",
       "      <td>Włochy</td>\n",
       "      <td>4.5</td>\n",
       "      <td>Europa</td>\n",
       "    </tr>\n",
       "    <tr>\n",
       "      <th>1002</th>\n",
       "      <td>Tim</td>\n",
       "      <td>41</td>\n",
       "      <td>USA</td>\n",
       "      <td>2.0</td>\n",
       "      <td>Ameryka</td>\n",
       "    </tr>\n",
       "    <tr>\n",
       "      <th>1003</th>\n",
       "      <td>Jenny</td>\n",
       "      <td>12</td>\n",
       "      <td>Niemcy</td>\n",
       "      <td>5.0</td>\n",
       "      <td>Europa</td>\n",
       "    </tr>\n",
       "  </tbody>\n",
       "</table>\n",
       "</div>"
      ],
      "text/plain": [
       "        imię  wiek    kraj  ocena kontynent\n",
       "numer                                      \n",
       "1000    John    33     USA    3.5   Ameryka\n",
       "1001    Mark    55  Włochy    4.5    Europa\n",
       "1002     Tim    41     USA    2.0   Ameryka\n",
       "1003   Jenny    12  Niemcy    5.0    Europa"
      ]
     },
     "execution_count": 132,
     "metadata": {},
     "output_type": "execute_result"
    }
   ],
   "source": [
    "df"
   ]
  },
  {
   "cell_type": "code",
   "execution_count": null,
   "metadata": {},
   "outputs": [],
   "source": [
    "data = [[\"Becky\", 15, \"Francja\", 2.0, \"Azja\"],\n",
    "        [\"Paul\", 44, \"Kanada\", 3.5, \"Ameryka\"]]"
   ]
  },
  {
   "cell_type": "code",
   "execution_count": null,
   "metadata": {},
   "outputs": [
    {
     "data": {
      "text/html": [
       "<div>\n",
       "<style scoped>\n",
       "    .dataframe tbody tr th:only-of-type {\n",
       "        vertical-align: middle;\n",
       "    }\n",
       "\n",
       "    .dataframe tbody tr th {\n",
       "        vertical-align: top;\n",
       "    }\n",
       "\n",
       "    .dataframe thead th {\n",
       "        text-align: right;\n",
       "    }\n",
       "</style>\n",
       "<table border=\"1\" class=\"dataframe\">\n",
       "  <thead>\n",
       "    <tr style=\"text-align: right;\">\n",
       "      <th></th>\n",
       "      <th>imię</th>\n",
       "      <th>wiek</th>\n",
       "      <th>kraj</th>\n",
       "      <th>ocena</th>\n",
       "      <th>kontynent</th>\n",
       "    </tr>\n",
       "  </thead>\n",
       "  <tbody>\n",
       "    <tr>\n",
       "      <th>1000</th>\n",
       "      <td>Becky</td>\n",
       "      <td>15</td>\n",
       "      <td>Francja</td>\n",
       "      <td>2.0</td>\n",
       "      <td>Azja</td>\n",
       "    </tr>\n",
       "    <tr>\n",
       "      <th>1011</th>\n",
       "      <td>Paul</td>\n",
       "      <td>44</td>\n",
       "      <td>Kanada</td>\n",
       "      <td>3.5</td>\n",
       "      <td>Ameryka</td>\n",
       "    </tr>\n",
       "  </tbody>\n",
       "</table>\n",
       "</div>"
      ],
      "text/plain": [
       "       imię  wiek     kraj  ocena kontynent\n",
       "1000  Becky    15  Francja    2.0      Azja\n",
       "1011   Paul    44   Kanada    3.5   Ameryka"
      ]
     },
     "execution_count": 134,
     "metadata": {},
     "output_type": "execute_result"
    }
   ],
   "source": [
    "more_users = pd.DataFrame(\n",
    "    data=data,\n",
    "    columns=[\"imię\", \"wiek\", \"kraj\", \"ocena\", \"kontynent\"],\n",
    "    index=[1000,1011]\n",
    ")\n",
    "more_users"
   ]
  },
  {
   "cell_type": "code",
   "execution_count": null,
   "metadata": {},
   "outputs": [
    {
     "data": {
      "text/html": [
       "<div>\n",
       "<style scoped>\n",
       "    .dataframe tbody tr th:only-of-type {\n",
       "        vertical-align: middle;\n",
       "    }\n",
       "\n",
       "    .dataframe tbody tr th {\n",
       "        vertical-align: top;\n",
       "    }\n",
       "\n",
       "    .dataframe thead th {\n",
       "        text-align: right;\n",
       "    }\n",
       "</style>\n",
       "<table border=\"1\" class=\"dataframe\">\n",
       "  <thead>\n",
       "    <tr style=\"text-align: right;\">\n",
       "      <th></th>\n",
       "      <th>imię</th>\n",
       "      <th>wiek</th>\n",
       "      <th>kraj</th>\n",
       "      <th>ocena</th>\n",
       "      <th>kontynent</th>\n",
       "    </tr>\n",
       "  </thead>\n",
       "  <tbody>\n",
       "    <tr>\n",
       "      <th>1000</th>\n",
       "      <td>John</td>\n",
       "      <td>33</td>\n",
       "      <td>USA</td>\n",
       "      <td>3.5</td>\n",
       "      <td>Ameryka</td>\n",
       "    </tr>\n",
       "    <tr>\n",
       "      <th>1001</th>\n",
       "      <td>Mark</td>\n",
       "      <td>55</td>\n",
       "      <td>Włochy</td>\n",
       "      <td>4.5</td>\n",
       "      <td>Europa</td>\n",
       "    </tr>\n",
       "    <tr>\n",
       "      <th>1002</th>\n",
       "      <td>Tim</td>\n",
       "      <td>41</td>\n",
       "      <td>USA</td>\n",
       "      <td>2.0</td>\n",
       "      <td>Ameryka</td>\n",
       "    </tr>\n",
       "    <tr>\n",
       "      <th>1003</th>\n",
       "      <td>Jenny</td>\n",
       "      <td>12</td>\n",
       "      <td>Niemcy</td>\n",
       "      <td>5.0</td>\n",
       "      <td>Europa</td>\n",
       "    </tr>\n",
       "    <tr>\n",
       "      <th>1000</th>\n",
       "      <td>Becky</td>\n",
       "      <td>15</td>\n",
       "      <td>Francja</td>\n",
       "      <td>2.0</td>\n",
       "      <td>Azja</td>\n",
       "    </tr>\n",
       "    <tr>\n",
       "      <th>1011</th>\n",
       "      <td>Paul</td>\n",
       "      <td>44</td>\n",
       "      <td>Kanada</td>\n",
       "      <td>3.5</td>\n",
       "      <td>Ameryka</td>\n",
       "    </tr>\n",
       "  </tbody>\n",
       "</table>\n",
       "</div>"
      ],
      "text/plain": [
       "       imię  wiek     kraj  ocena kontynent\n",
       "1000   John    33      USA    3.5   Ameryka\n",
       "1001   Mark    55   Włochy    4.5    Europa\n",
       "1002    Tim    41      USA    2.0   Ameryka\n",
       "1003  Jenny    12   Niemcy    5.0    Europa\n",
       "1000  Becky    15  Francja    2.0      Azja\n",
       "1011   Paul    44   Kanada    3.5   Ameryka"
      ]
     },
     "execution_count": 135,
     "metadata": {},
     "output_type": "execute_result"
    }
   ],
   "source": [
    "pd.concat([df, more_users], axis=0)"
   ]
  },
  {
   "cell_type": "code",
   "execution_count": null,
   "metadata": {},
   "outputs": [
    {
     "data": {
      "text/html": [
       "<div>\n",
       "<style scoped>\n",
       "    .dataframe tbody tr th:only-of-type {\n",
       "        vertical-align: middle;\n",
       "    }\n",
       "\n",
       "    .dataframe tbody tr th {\n",
       "        vertical-align: top;\n",
       "    }\n",
       "\n",
       "    .dataframe thead th {\n",
       "        text-align: right;\n",
       "    }\n",
       "</style>\n",
       "<table border=\"1\" class=\"dataframe\">\n",
       "  <thead>\n",
       "    <tr style=\"text-align: right;\">\n",
       "      <th></th>\n",
       "      <th>imię</th>\n",
       "      <th>wiek</th>\n",
       "      <th>kraj</th>\n",
       "      <th>ocena</th>\n",
       "      <th>kontynent</th>\n",
       "      <th>imię</th>\n",
       "      <th>wiek</th>\n",
       "      <th>kraj</th>\n",
       "      <th>ocena</th>\n",
       "      <th>kontynent</th>\n",
       "    </tr>\n",
       "  </thead>\n",
       "  <tbody>\n",
       "    <tr>\n",
       "      <th>1000</th>\n",
       "      <td>John</td>\n",
       "      <td>33.0</td>\n",
       "      <td>USA</td>\n",
       "      <td>3.5</td>\n",
       "      <td>Ameryka</td>\n",
       "      <td>Becky</td>\n",
       "      <td>15.0</td>\n",
       "      <td>Francja</td>\n",
       "      <td>2.0</td>\n",
       "      <td>Azja</td>\n",
       "    </tr>\n",
       "    <tr>\n",
       "      <th>1001</th>\n",
       "      <td>Mark</td>\n",
       "      <td>55.0</td>\n",
       "      <td>Włochy</td>\n",
       "      <td>4.5</td>\n",
       "      <td>Europa</td>\n",
       "      <td>NaN</td>\n",
       "      <td>NaN</td>\n",
       "      <td>NaN</td>\n",
       "      <td>NaN</td>\n",
       "      <td>NaN</td>\n",
       "    </tr>\n",
       "    <tr>\n",
       "      <th>1002</th>\n",
       "      <td>Tim</td>\n",
       "      <td>41.0</td>\n",
       "      <td>USA</td>\n",
       "      <td>2.0</td>\n",
       "      <td>Ameryka</td>\n",
       "      <td>NaN</td>\n",
       "      <td>NaN</td>\n",
       "      <td>NaN</td>\n",
       "      <td>NaN</td>\n",
       "      <td>NaN</td>\n",
       "    </tr>\n",
       "    <tr>\n",
       "      <th>1003</th>\n",
       "      <td>Jenny</td>\n",
       "      <td>12.0</td>\n",
       "      <td>Niemcy</td>\n",
       "      <td>5.0</td>\n",
       "      <td>Europa</td>\n",
       "      <td>NaN</td>\n",
       "      <td>NaN</td>\n",
       "      <td>NaN</td>\n",
       "      <td>NaN</td>\n",
       "      <td>NaN</td>\n",
       "    </tr>\n",
       "    <tr>\n",
       "      <th>1011</th>\n",
       "      <td>NaN</td>\n",
       "      <td>NaN</td>\n",
       "      <td>NaN</td>\n",
       "      <td>NaN</td>\n",
       "      <td>NaN</td>\n",
       "      <td>Paul</td>\n",
       "      <td>44.0</td>\n",
       "      <td>Kanada</td>\n",
       "      <td>3.5</td>\n",
       "      <td>Ameryka</td>\n",
       "    </tr>\n",
       "  </tbody>\n",
       "</table>\n",
       "</div>"
      ],
      "text/plain": [
       "       imię  wiek    kraj  ocena kontynent   imię  wiek     kraj  ocena  \\\n",
       "1000   John  33.0     USA    3.5   Ameryka  Becky  15.0  Francja    2.0   \n",
       "1001   Mark  55.0  Włochy    4.5    Europa    NaN   NaN      NaN    NaN   \n",
       "1002    Tim  41.0     USA    2.0   Ameryka    NaN   NaN      NaN    NaN   \n",
       "1003  Jenny  12.0  Niemcy    5.0    Europa    NaN   NaN      NaN    NaN   \n",
       "1011    NaN   NaN     NaN    NaN       NaN   Paul  44.0   Kanada    3.5   \n",
       "\n",
       "     kontynent  \n",
       "1000      Azja  \n",
       "1001       NaN  \n",
       "1002       NaN  \n",
       "1003       NaN  \n",
       "1011   Ameryka  "
      ]
     },
     "execution_count": 136,
     "metadata": {},
     "output_type": "execute_result"
    }
   ],
   "source": [
    "pd.concat([df, more_users], axis=1)"
   ]
  },
  {
   "attachments": {},
   "cell_type": "markdown",
   "metadata": {},
   "source": [
    "# Rodzaje joinów"
   ]
  },
  {
   "cell_type": "code",
   "execution_count": null,
   "metadata": {},
   "outputs": [],
   "source": [
    "df1=pd.DataFrame(data=[[1,2],[3,4],[5,6]], columns=[\"A\", \"B\"])\n",
    "df2=pd.DataFrame(data=[[10,20],[30,40]], columns=[\"C\", \"D\"], index=[1,3])"
   ]
  },
  {
   "cell_type": "code",
   "execution_count": null,
   "metadata": {},
   "outputs": [
    {
     "data": {
      "text/html": [
       "<div>\n",
       "<style scoped>\n",
       "    .dataframe tbody tr th:only-of-type {\n",
       "        vertical-align: middle;\n",
       "    }\n",
       "\n",
       "    .dataframe tbody tr th {\n",
       "        vertical-align: top;\n",
       "    }\n",
       "\n",
       "    .dataframe thead th {\n",
       "        text-align: right;\n",
       "    }\n",
       "</style>\n",
       "<table border=\"1\" class=\"dataframe\">\n",
       "  <thead>\n",
       "    <tr style=\"text-align: right;\">\n",
       "      <th></th>\n",
       "      <th>A</th>\n",
       "      <th>B</th>\n",
       "    </tr>\n",
       "  </thead>\n",
       "  <tbody>\n",
       "    <tr>\n",
       "      <th>0</th>\n",
       "      <td>1</td>\n",
       "      <td>2</td>\n",
       "    </tr>\n",
       "    <tr>\n",
       "      <th>1</th>\n",
       "      <td>3</td>\n",
       "      <td>4</td>\n",
       "    </tr>\n",
       "    <tr>\n",
       "      <th>2</th>\n",
       "      <td>5</td>\n",
       "      <td>6</td>\n",
       "    </tr>\n",
       "  </tbody>\n",
       "</table>\n",
       "</div>"
      ],
      "text/plain": [
       "   A  B\n",
       "0  1  2\n",
       "1  3  4\n",
       "2  5  6"
      ]
     },
     "execution_count": 138,
     "metadata": {},
     "output_type": "execute_result"
    }
   ],
   "source": [
    "df1"
   ]
  },
  {
   "cell_type": "code",
   "execution_count": null,
   "metadata": {},
   "outputs": [
    {
     "data": {
      "text/html": [
       "<div>\n",
       "<style scoped>\n",
       "    .dataframe tbody tr th:only-of-type {\n",
       "        vertical-align: middle;\n",
       "    }\n",
       "\n",
       "    .dataframe tbody tr th {\n",
       "        vertical-align: top;\n",
       "    }\n",
       "\n",
       "    .dataframe thead th {\n",
       "        text-align: right;\n",
       "    }\n",
       "</style>\n",
       "<table border=\"1\" class=\"dataframe\">\n",
       "  <thead>\n",
       "    <tr style=\"text-align: right;\">\n",
       "      <th></th>\n",
       "      <th>C</th>\n",
       "      <th>D</th>\n",
       "    </tr>\n",
       "  </thead>\n",
       "  <tbody>\n",
       "    <tr>\n",
       "      <th>1</th>\n",
       "      <td>10</td>\n",
       "      <td>20</td>\n",
       "    </tr>\n",
       "    <tr>\n",
       "      <th>3</th>\n",
       "      <td>30</td>\n",
       "      <td>40</td>\n",
       "    </tr>\n",
       "  </tbody>\n",
       "</table>\n",
       "</div>"
      ],
      "text/plain": [
       "    C   D\n",
       "1  10  20\n",
       "3  30  40"
      ]
     },
     "execution_count": 139,
     "metadata": {},
     "output_type": "execute_result"
    }
   ],
   "source": [
    "df2"
   ]
  },
  {
   "cell_type": "code",
   "execution_count": null,
   "metadata": {},
   "outputs": [
    {
     "data": {
      "text/html": [
       "<div>\n",
       "<style scoped>\n",
       "    .dataframe tbody tr th:only-of-type {\n",
       "        vertical-align: middle;\n",
       "    }\n",
       "\n",
       "    .dataframe tbody tr th {\n",
       "        vertical-align: top;\n",
       "    }\n",
       "\n",
       "    .dataframe thead th {\n",
       "        text-align: right;\n",
       "    }\n",
       "</style>\n",
       "<table border=\"1\" class=\"dataframe\">\n",
       "  <thead>\n",
       "    <tr style=\"text-align: right;\">\n",
       "      <th></th>\n",
       "      <th>A</th>\n",
       "      <th>B</th>\n",
       "      <th>C</th>\n",
       "      <th>D</th>\n",
       "    </tr>\n",
       "  </thead>\n",
       "  <tbody>\n",
       "    <tr>\n",
       "      <th>1</th>\n",
       "      <td>3</td>\n",
       "      <td>4</td>\n",
       "      <td>10</td>\n",
       "      <td>20</td>\n",
       "    </tr>\n",
       "  </tbody>\n",
       "</table>\n",
       "</div>"
      ],
      "text/plain": [
       "   A  B   C   D\n",
       "1  3  4  10  20"
      ]
     },
     "execution_count": 178,
     "metadata": {},
     "output_type": "execute_result"
    }
   ],
   "source": [
    "# inner join\n",
    "df1.join(df2,how=\"inner\")"
   ]
  },
  {
   "cell_type": "code",
   "execution_count": null,
   "metadata": {},
   "outputs": [
    {
     "data": {
      "text/html": [
       "<div>\n",
       "<style scoped>\n",
       "    .dataframe tbody tr th:only-of-type {\n",
       "        vertical-align: middle;\n",
       "    }\n",
       "\n",
       "    .dataframe tbody tr th {\n",
       "        vertical-align: top;\n",
       "    }\n",
       "\n",
       "    .dataframe thead th {\n",
       "        text-align: right;\n",
       "    }\n",
       "</style>\n",
       "<table border=\"1\" class=\"dataframe\">\n",
       "  <thead>\n",
       "    <tr style=\"text-align: right;\">\n",
       "      <th></th>\n",
       "      <th>A</th>\n",
       "      <th>B</th>\n",
       "      <th>C</th>\n",
       "      <th>D</th>\n",
       "    </tr>\n",
       "  </thead>\n",
       "  <tbody>\n",
       "    <tr>\n",
       "      <th>0</th>\n",
       "      <td>1.0</td>\n",
       "      <td>2.0</td>\n",
       "      <td>NaN</td>\n",
       "      <td>NaN</td>\n",
       "    </tr>\n",
       "    <tr>\n",
       "      <th>1</th>\n",
       "      <td>3.0</td>\n",
       "      <td>4.0</td>\n",
       "      <td>10.0</td>\n",
       "      <td>20.0</td>\n",
       "    </tr>\n",
       "    <tr>\n",
       "      <th>2</th>\n",
       "      <td>5.0</td>\n",
       "      <td>6.0</td>\n",
       "      <td>NaN</td>\n",
       "      <td>NaN</td>\n",
       "    </tr>\n",
       "    <tr>\n",
       "      <th>3</th>\n",
       "      <td>NaN</td>\n",
       "      <td>NaN</td>\n",
       "      <td>30.0</td>\n",
       "      <td>40.0</td>\n",
       "    </tr>\n",
       "  </tbody>\n",
       "</table>\n",
       "</div>"
      ],
      "text/plain": [
       "     A    B     C     D\n",
       "0  1.0  2.0   NaN   NaN\n",
       "1  3.0  4.0  10.0  20.0\n",
       "2  5.0  6.0   NaN   NaN\n",
       "3  NaN  NaN  30.0  40.0"
      ]
     },
     "execution_count": 179,
     "metadata": {},
     "output_type": "execute_result"
    }
   ],
   "source": [
    "# outer join\n",
    "df1.join(df2,how=\"outer\")"
   ]
  },
  {
   "cell_type": "code",
   "execution_count": null,
   "metadata": {},
   "outputs": [
    {
     "data": {
      "text/html": [
       "<div>\n",
       "<style scoped>\n",
       "    .dataframe tbody tr th:only-of-type {\n",
       "        vertical-align: middle;\n",
       "    }\n",
       "\n",
       "    .dataframe tbody tr th {\n",
       "        vertical-align: top;\n",
       "    }\n",
       "\n",
       "    .dataframe thead th {\n",
       "        text-align: right;\n",
       "    }\n",
       "</style>\n",
       "<table border=\"1\" class=\"dataframe\">\n",
       "  <thead>\n",
       "    <tr style=\"text-align: right;\">\n",
       "      <th></th>\n",
       "      <th>A</th>\n",
       "      <th>B</th>\n",
       "      <th>C</th>\n",
       "      <th>D</th>\n",
       "    </tr>\n",
       "  </thead>\n",
       "  <tbody>\n",
       "    <tr>\n",
       "      <th>0</th>\n",
       "      <td>1</td>\n",
       "      <td>2</td>\n",
       "      <td>NaN</td>\n",
       "      <td>NaN</td>\n",
       "    </tr>\n",
       "    <tr>\n",
       "      <th>1</th>\n",
       "      <td>3</td>\n",
       "      <td>4</td>\n",
       "      <td>10.0</td>\n",
       "      <td>20.0</td>\n",
       "    </tr>\n",
       "    <tr>\n",
       "      <th>2</th>\n",
       "      <td>5</td>\n",
       "      <td>6</td>\n",
       "      <td>NaN</td>\n",
       "      <td>NaN</td>\n",
       "    </tr>\n",
       "  </tbody>\n",
       "</table>\n",
       "</div>"
      ],
      "text/plain": [
       "   A  B     C     D\n",
       "0  1  2   NaN   NaN\n",
       "1  3  4  10.0  20.0\n",
       "2  5  6   NaN   NaN"
      ]
     },
     "execution_count": 109,
     "metadata": {},
     "output_type": "execute_result"
    }
   ],
   "source": [
    "# left join\n",
    "df1.join(df2,how=\"left\")"
   ]
  },
  {
   "cell_type": "code",
   "execution_count": null,
   "metadata": {},
   "outputs": [
    {
     "data": {
      "text/html": [
       "<div>\n",
       "<style scoped>\n",
       "    .dataframe tbody tr th:only-of-type {\n",
       "        vertical-align: middle;\n",
       "    }\n",
       "\n",
       "    .dataframe tbody tr th {\n",
       "        vertical-align: top;\n",
       "    }\n",
       "\n",
       "    .dataframe thead th {\n",
       "        text-align: right;\n",
       "    }\n",
       "</style>\n",
       "<table border=\"1\" class=\"dataframe\">\n",
       "  <thead>\n",
       "    <tr style=\"text-align: right;\">\n",
       "      <th></th>\n",
       "      <th>A</th>\n",
       "      <th>B</th>\n",
       "      <th>C</th>\n",
       "      <th>D</th>\n",
       "    </tr>\n",
       "  </thead>\n",
       "  <tbody>\n",
       "    <tr>\n",
       "      <th>1</th>\n",
       "      <td>3.0</td>\n",
       "      <td>4.0</td>\n",
       "      <td>10</td>\n",
       "      <td>20</td>\n",
       "    </tr>\n",
       "    <tr>\n",
       "      <th>3</th>\n",
       "      <td>NaN</td>\n",
       "      <td>NaN</td>\n",
       "      <td>30</td>\n",
       "      <td>40</td>\n",
       "    </tr>\n",
       "  </tbody>\n",
       "</table>\n",
       "</div>"
      ],
      "text/plain": [
       "     A    B   C   D\n",
       "1  3.0  4.0  10  20\n",
       "3  NaN  NaN  30  40"
      ]
     },
     "execution_count": 110,
     "metadata": {},
     "output_type": "execute_result"
    }
   ],
   "source": [
    "# right join\n",
    "df1.join(df2,how=\"right\")"
   ]
  },
  {
   "cell_type": "code",
   "execution_count": null,
   "metadata": {},
   "outputs": [],
   "source": []
  }
 ],
 "metadata": {
  "kernelspec": {
   "display_name": "Python 3.9.12 ('base')",
   "language": "python",
   "name": "python3"
  },
  "language_info": {
   "codemirror_mode": {
    "name": "ipython",
    "version": 3
   },
   "file_extension": ".py",
   "mimetype": "text/x-python",
   "name": "python",
   "nbconvert_exporter": "python",
   "pygments_lexer": "ipython3",
   "version": "3.11.5"
  },
  "orig_nbformat": 4,
  "vscode": {
   "interpreter": {
    "hash": "ad2bdc8ecc057115af97d19610ffacc2b4e99fae6737bb82f5d7fb13d2f2c186"
   }
  }
 },
 "nbformat": 4,
 "nbformat_minor": 2
}
