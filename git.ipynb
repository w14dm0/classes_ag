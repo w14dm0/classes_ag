{
 "cells": [
  {
   "cell_type": "code",
   "execution_count": null,
   "metadata": {},
   "outputs": [],
   "source": [
    "s-013-13@K-013-13 MINGW64 /d\n",
    "$ git clone https://github.com/dbonar24/wdum.git\n",
    "Cloning into 'wdum'...\n",
    "remote: Enumerating objects: 3, done.\n",
    "remote: Counting objects: 100% (3/3), done.\n",
    "remote: Total 3 (delta 0), reused 0 (delta 0), pack-reused 0\n",
    "Receiving objects: 100% (3/3), done.\n",
    "\n",
    "s-013-13@K-013-13 MINGW64 /d\n",
    "$ git config --global user.name \"dbonar\"\n",
    "\n",
    "s-013-13@K-013-13 MINGW64 /d\n",
    "$ git config --global user.email \"s221265@student.uek.krakow.pl\"\n",
    "\n",
    "s-013-13@K-013-13 MINGW64 /d\n",
    "$\n"
   ]
  }
 ],
 "metadata": {
  "kernelspec": {
   "display_name": "base",
   "language": "python",
   "name": "python3"
  },
  "language_info": {
   "name": "python",
   "version": "3.11.5"
  },
  "orig_nbformat": 4
 },
 "nbformat": 4,
 "nbformat_minor": 2
}
